{
 "cells": [
  {
   "cell_type": "markdown",
   "id": "735bba71",
   "metadata": {},
   "source": [
    "# Part 4 - Binary Sentiment Classification & Part 6 - Clustering"
   ]
  },
  {
   "cell_type": "markdown",
   "id": "01aa6107",
   "metadata": {},
   "source": [
    "# Install Dependencies\n",
    "This section installs required libraries (scikit-learn for machine learning, duckdb for querying Parquet files) to support sentiment analysis and clustering. The environment is verified to ensure compatibility."
   ]
  },
  {
   "cell_type": "code",
   "execution_count": 2,
   "id": "ffb1cf4b",
   "metadata": {},
   "outputs": [
    {
     "name": "stdout",
     "output_type": "stream",
     "text": [
      "Collecting sklearn\n",
      "  Downloading sklearn-0.0.post12.tar.gz (2.6 kB)\n",
      "  Preparing metadata (setup.py): started\n",
      "  Preparing metadata (setup.py): finished with status 'error'\n"
     ]
    },
    {
     "name": "stderr",
     "output_type": "stream",
     "text": [
      "  error: subprocess-exited-with-error\n",
      "  \n",
      "  × python setup.py egg_info did not run successfully.\n",
      "  │ exit code: 1\n",
      "  ╰─> [15 lines of output]\n",
      "      The 'sklearn' PyPI package is deprecated, use 'scikit-learn'\n",
      "      rather than 'sklearn' for pip commands.\n",
      "      \n",
      "      Here is how to fix this error in the main use cases:\n",
      "      - use 'pip install scikit-learn' rather than 'pip install sklearn'\n",
      "      - replace 'sklearn' by 'scikit-learn' in your pip requirements files\n",
      "        (requirements.txt, setup.py, setup.cfg, Pipfile, etc ...)\n",
      "      - if the 'sklearn' package is used by one of your dependencies,\n",
      "        it would be great if you take some time to track which package uses\n",
      "        'sklearn' instead of 'scikit-learn' and report it to their issue tracker\n",
      "      - as a last resort, set the environment variable\n",
      "        SKLEARN_ALLOW_DEPRECATED_SKLEARN_PACKAGE_INSTALL=True to avoid this error\n",
      "      \n",
      "      More information is available at\n",
      "      https://github.com/scikit-learn/sklearn-pypi-package\n",
      "      [end of output]\n",
      "  \n",
      "  note: This error originates from a subprocess, and is likely not a problem with pip.\n",
      "error: metadata-generation-failed\n",
      "\n",
      "× Encountered error while generating package metadata.\n",
      "╰─> See above for output.\n",
      "\n",
      "note: This is an issue with the package mentioned above, not pip.\n",
      "hint: See above for details.\n"
     ]
    }
   ],
   "source": [
    "!pip install sklearn"
   ]
  },
  {
   "cell_type": "code",
   "execution_count": 12,
   "id": "e30db0c3",
   "metadata": {},
   "outputs": [
    {
     "name": "stdout",
     "output_type": "stream",
     "text": [
      "Collecting scikit-learn\n",
      "  Downloading scikit_learn-1.6.1-cp311-cp311-win_amd64.whl.metadata (15 kB)\n",
      "Requirement already satisfied: numpy>=1.19.5 in c:\\users\\alindo\\downloads\\assignment3notebook\\.conda\\lib\\site-packages (from scikit-learn) (2.2.4)\n",
      "Collecting scipy>=1.6.0 (from scikit-learn)\n",
      "  Downloading scipy-1.15.2-cp311-cp311-win_amd64.whl.metadata (60 kB)\n",
      "Collecting joblib>=1.2.0 (from scikit-learn)\n",
      "  Using cached joblib-1.4.2-py3-none-any.whl.metadata (5.4 kB)\n",
      "Collecting threadpoolctl>=3.1.0 (from scikit-learn)\n",
      "  Using cached threadpoolctl-3.6.0-py3-none-any.whl.metadata (13 kB)\n",
      "Downloading scikit_learn-1.6.1-cp311-cp311-win_amd64.whl (11.1 MB)\n",
      "   ---------------------------------------- 0.0/11.1 MB ? eta -:--:--\n",
      "   - -------------------------------------- 0.5/11.1 MB 4.2 MB/s eta 0:00:03\n",
      "   --------------------- ------------------ 6.0/11.1 MB 21.7 MB/s eta 0:00:01\n",
      "   ---------------------------------------- 11.1/11.1 MB 27.8 MB/s eta 0:00:00\n",
      "Using cached joblib-1.4.2-py3-none-any.whl (301 kB)\n",
      "Downloading scipy-1.15.2-cp311-cp311-win_amd64.whl (41.2 MB)\n",
      "   ---------------------------------------- 0.0/41.2 MB ? eta -:--:--\n",
      "   ---------- ----------------------------- 11.0/41.2 MB 57.5 MB/s eta 0:00:01\n",
      "   -------------- ------------------------- 15.2/41.2 MB 41.6 MB/s eta 0:00:01\n",
      "   ------------------------ --------------- 25.7/41.2 MB 42.9 MB/s eta 0:00:01\n",
      "   -------------------------------- ------- 33.8/41.2 MB 42.1 MB/s eta 0:00:01\n",
      "   ---------------------------------------  41.2/41.2 MB 40.9 MB/s eta 0:00:01\n",
      "   ---------------------------------------- 41.2/41.2 MB 38.0 MB/s eta 0:00:00\n",
      "Using cached threadpoolctl-3.6.0-py3-none-any.whl (18 kB)\n",
      "Installing collected packages: threadpoolctl, scipy, joblib, scikit-learn\n",
      "Successfully installed joblib-1.4.2 scikit-learn-1.6.1 scipy-1.15.2 threadpoolctl-3.6.0\n"
     ]
    }
   ],
   "source": [
    "!pip install scikit-learn"
   ]
  },
  {
   "cell_type": "code",
   "execution_count": 8,
   "id": "9888c4a0",
   "metadata": {},
   "outputs": [
    {
     "name": "stdout",
     "output_type": "stream",
     "text": [
      "c:\\Users\\Alindo\\Downloads\\assignment3notebook\\.conda\n"
     ]
    }
   ],
   "source": [
    "import sys\n",
    "print(sys.prefix)"
   ]
  },
  {
   "cell_type": "code",
   "execution_count": 13,
   "id": "9a375cdd",
   "metadata": {},
   "outputs": [
    {
     "name": "stdout",
     "output_type": "stream",
     "text": [
      "1.6.1\n"
     ]
    }
   ],
   "source": [
    "import sklearn\n",
    "print(sklearn.__version__)"
   ]
  },
  {
   "cell_type": "code",
   "execution_count": 3,
   "id": "1e239554",
   "metadata": {},
   "outputs": [
    {
     "name": "stdout",
     "output_type": "stream",
     "text": [
      "Requirement already satisfied: scikit-learn in c:\\users\\alindo\\downloads\\assignment3notebook\\.conda\\lib\\site-packages (1.6.1)\n",
      "Requirement already satisfied: numpy>=1.19.5 in c:\\users\\alindo\\downloads\\assignment3notebook\\.conda\\lib\\site-packages (from scikit-learn) (2.2.4)\n",
      "Requirement already satisfied: scipy>=1.6.0 in c:\\users\\alindo\\downloads\\assignment3notebook\\.conda\\lib\\site-packages (from scikit-learn) (1.15.2)\n",
      "Requirement already satisfied: joblib>=1.2.0 in c:\\users\\alindo\\downloads\\assignment3notebook\\.conda\\lib\\site-packages (from scikit-learn) (1.4.2)\n",
      "Requirement already satisfied: threadpoolctl>=3.1.0 in c:\\users\\alindo\\downloads\\assignment3notebook\\.conda\\lib\\site-packages (from scikit-learn) (3.6.0)\n"
     ]
    }
   ],
   "source": [
    "!pip install scikit-learn"
   ]
  },
  {
   "cell_type": "code",
   "execution_count": 1,
   "id": "9df8cf75",
   "metadata": {},
   "outputs": [
    {
     "name": "stdout",
     "output_type": "stream",
     "text": [
      "Requirement already satisfied: duckdb in c:\\users\\alindo\\downloads\\assignment3notebook\\.conda\\lib\\site-packages (1.2.2)\n"
     ]
    }
   ],
   "source": [
    "!pip install duckdb"
   ]
  },
  {
   "cell_type": "markdown",
   "id": "0f13304c",
   "metadata": {},
   "source": [
    "## Task 6: Clustering / Segmentation (k-means)\n",
    "\n",
    "### Objective\n",
    "Segment products into 5 clusters using k-means clustering based on the following features per product:\n",
    "- **mean_rating**: Average user rating per product.\n",
    "- **total_reviews**: Total number of reviews for the product.\n",
    "- **brand_id**: Integer ID mapped from distinct brand strings.\n",
    "- **category_id**: Integer ID mapped from distinct main category strings.\n",
    "\n",
    "### Methodology\n",
    "1. **Data Preparation**:\n",
    "   - Use DuckDB to query the parquet files and aggregate features by `parent_asin`.\n",
    "   - Compute `mean_rating` (average rating) and `total_reviews` (count of reviews) per product.\n",
    "   - Map brands and categories to integer IDs using distinct values from the dataset.\n",
    "   - Filter out invalid entries (e.g., missing or empty brands/categories, ratings not in [1-5]).\n",
    "2. **Feature Scaling**:\n",
    "   - Standardize features using `StandardScaler` to ensure equal contribution to clustering.\n",
    "3. **K-means Clustering**:\n",
    "   - Apply k-means with `k=5`, default initialization, and random state 42 using `sklearn.cluster.KMeans`.\n",
    "   - Assign cluster labels to each product.\n",
    "4. **Cluster Analysis**:\n",
    "   - For each cluster, compute:\n",
    "     - Size (number of products).\n",
    "     - Average `mean_rating`, `total_reviews`, `brand_id`, and `category_id`.\n",
    "     - Top 3 brands and categories by frequency.\n",
    "   - Provide an interpretation of each cluster (e.g., high-rating products, low-review items).\n",
    "\n",
    "### Implementation\n",
    "The following code performs the clustering and analysis, outputting the results for each cluster. It handles the large dataset efficiently using DuckDB and processes approximately 32.6 million unique products."
   ]
  },
  {
   "cell_type": "code",
   "execution_count": null,
   "id": "8e948ff5",
   "metadata": {},
   "outputs": [
    {
     "name": "stdout",
     "output_type": "stream",
     "text": [
      "--- Starting Product Segmentation ---\n",
      "Initializing DuckDB...\n",
      "DuckDB Initialized.\n",
      "Creating Brand and Category Mappings...\n"
     ]
    },
    {
     "data": {
      "application/vnd.jupyter.widget-view+json": {
       "model_id": "b642e61e32704ce8901b0ee59f30985d",
       "version_major": 2,
       "version_minor": 0
      },
      "text/plain": [
       "FloatProgress(value=0.0, layout=Layout(width='auto'), style=ProgressStyle(bar_color='black'))"
      ]
     },
     "metadata": {},
     "output_type": "display_data"
    },
    {
     "name": "stdout",
     "output_type": "stream",
     "text": [
      "Found 4769188 unique brands and 50 unique categories.\n",
      "Aggregating product features (mean_rating, total_reviews)...\n"
     ]
    },
    {
     "data": {
      "application/vnd.jupyter.widget-view+json": {
       "model_id": "6485d7fa068c498caac3268e39e4b09e",
       "version_major": 2,
       "version_minor": 0
      },
      "text/plain": [
       "FloatProgress(value=0.0, layout=Layout(width='auto'), style=ProgressStyle(bar_color='black'))"
      ]
     },
     "metadata": {},
     "output_type": "display_data"
    },
    {
     "name": "stdout",
     "output_type": "stream",
     "text": [
      "Aggregated features for 32609113 unique products.\n",
      "Preparing data for K-means (mapping IDs, scaling)...\n",
      "Features scaled.\n",
      "Applying K-means clustering (k=5)...\n",
      "K-means fitting complete.\n",
      "\n",
      "--- Cluster Analysis ---\n",
      "\n",
      "Cluster 0:\n",
      "  Size: 6703788 products (20.6%)\n",
      "  Avg Mean Rating: 4.48\n",
      "  Avg Total Reviews: 10.88\n",
      "  Avg Brand ID: 3215458.76\n",
      "  Avg Category ID: 8.53\n",
      "  Top 3 Brands: [('Naturalizer', 10367), ('Aerosoles', 10183), ('Goodthreads', 9859)]\n",
      "  Top 3 Categories: [('Books', 2303290), ('AMAZON FASHION', 1616574), ('Amazon Home', 763316)]\n",
      "  Interpretation: High Rating (4.48), Moderate Reviews (10.9). Common Brands: [Naturalizer (10367), Aerosoles (10183), Goodthreads (9859)]. Common Categories: [Books (2303290), AMAZON FASHION (1616574), Amazon Home (763316)].\n",
      "\n",
      "Cluster 1:\n",
      "  Size: 4716768 products (14.5%)\n",
      "  Avg Mean Rating: 4.37\n",
      "  Avg Total Reviews: 16.39\n",
      "  Avg Brand ID: 1908860.60\n",
      "  Avg Category ID: 29.78\n",
      "  Top 3 Brands: [('Unknown', 404677), ('Generic', 46357), ('Format: DVD', 37983)]\n",
      "  Top 3 Categories: [('Buy a Kindle', 1755034), ('Digital Music', 748989), ('Prime Video', 348630)]\n",
      "  Interpretation: High Rating (4.37), Moderate Reviews (16.4). Common Brands: [Unknown (404677), Generic (46357), Format: DVD (37983)]. Common Categories: [Buy a Kindle (1755034), Digital Music (748989), Prime Video (348630)].\n",
      "\n",
      "Cluster 2:\n",
      "  Size: 5289078 products (16.2%)\n",
      "  Avg Mean Rating: 2.09\n",
      "  Avg Total Reviews: 4.66\n",
      "  Avg Brand ID: 1081689.80\n",
      "  Avg Category ID: 7.68\n",
      "  Top 3 Brands: [('Unknown', 147760), ('Generic', 44437), ('Amazon Renewed', 12315)]\n",
      "  Top 3 Categories: [('AMAZON FASHION', 1438350), ('Amazon Home', 850971), ('Automotive', 375685)]\n",
      "  Interpretation: Low Rating (2.09), Low Reviews (4.7). Common Brands: [Unknown (147760), Generic (44437), Amazon Renewed (12315)]. Common Categories: [AMAZON FASHION (1438350), Amazon Home (850971), Automotive (375685)].\n",
      "\n",
      "Cluster 3:\n",
      "  Size: 15889441 products (48.7%)\n",
      "  Avg Mean Rating: 4.57\n",
      "  Avg Total Reviews: 16.36\n",
      "  Avg Brand ID: 608587.10\n",
      "  Avg Category ID: 6.60\n",
      "  Top 3 Brands: [('Unknown', 407634), ('Generic', 86003), ('Nike', 68775)]\n",
      "  Top 3 Categories: [('AMAZON FASHION', 4312953), ('Amazon Home', 2748954), ('Books', 1448077)]\n",
      "  Interpretation: High Rating (4.57), Moderate Reviews (16.4). Common Brands: [Unknown (407634), Generic (86003), Nike (68775)]. Common Categories: [AMAZON FASHION (4312953), Amazon Home (2748954), Books (1448077)].\n",
      "\n",
      "Cluster 4:\n",
      "  Size: 10038 products (0.0%)\n",
      "  Avg Mean Rating: 4.23\n",
      "  Avg Total Reviews: 5587.12\n",
      "  Avg Brand ID: 1026626.83\n",
      "  Avg Category ID: 12.20\n",
      "  Top 3 Brands: [('Unknown', 367), ('Amazon Basics', 137), ('Amazon', 130)]\n",
      "  Top 3 Categories: [('Amazon Home', 2005), ('AMAZON FASHION', 1280), ('Health & Personal Care', 677)]\n",
      "  Interpretation: High Rating (4.23), Very High Reviews (5587.1). Common Brands: [Unknown (367), Amazon Basics (137), Amazon (130)]. Common Categories: [Amazon Home (2005), AMAZON FASHION (1280), Health & Personal Care (677)].\n",
      "\n",
      "Closing DuckDB connection...\n",
      "--- Script finished in 347.41 seconds ---\n"
     ]
    }
   ],
   "source": [
    "import duckdb\n",
    "import pandas as pd\n",
    "import numpy as np\n",
    "from sklearn.cluster import KMeans\n",
    "from sklearn.preprocessing import StandardScaler\n",
    "from collections import Counter\n",
    "import time\n",
    "\n",
    "input_path = \"F:/sentiments/sentiments/sentiment_*.parquet\"\n",
    "n_clusters = 5\n",
    "random_state = 42\n",
    "\n",
    "expected_categories = [\n",
    "    \"sentiment_All_Beauty\", \"sentiment_Amazon_Fashion\", \"sentiment_Appliances\", \"sentiment_Arts_Crafts_and_Sewing\", \"sentiment_Automotive\",\n",
    "    \"sentiment_Baby_Products\", \"sentiment_Beauty_and_Personal_Care\", \"sentiment_Books\", \"sentiment_CDs_and_Vinyl\",\n",
    "    \"sentiment_Cell_Phones_and_Accessories\", \"sentiment_Clothing_Shoes_and_Jewelry\", \"sentiment_Digital_Music\", \"sentiment_Electronics\",\n",
    "    \"sentiment_Gift_Cards\", \"sentiment_Grocery_and_Gourmet_Food\", \"sentiment_Handmade_Products\", \"sentiment_Health_and_Household\",\n",
    "    \"sentiment_Health_and_Personal_Care\", \"sentiment_Home_and_Kitchen\", \"sentiment_Industrial_and_Scientific\", \"sentiment_Kindle_Store\",\n",
    "    \"sentiment_Magazine_Subscriptions\", \"sentiment_Movies_and_TV\", \"sentiment_Musical_Instruments\", \"sentiment_Office_Products\",\n",
    "    \"sentiment_Patio_Lawn_and_Garden\", \"sentiment_Pet_Supplies\", \"sentiment_Software\", \"sentiment_Sports_and_Outdoors\",\n",
    "    \"sentiment_Subscription_Boxes\", \"sentiment_Tools_and_Home_Improvement\", \"sentiment_Toys_and_Games\", \"sentiment_Video_Games\", \"sentiment_Unknown\"\n",
    "]\n",
    "\n",
    "\n",
    "def get_most_common(series, top_n=3):\n",
    "    \"\"\"Gets the most common items and their counts from a Pandas Series.\"\"\"\n",
    "    counts = Counter(series.dropna())\n",
    "    return counts.most_common(top_n)\n",
    "\n",
    "\n",
    "start_time = time.time()\n",
    "print(\"--- Starting Product Segmentation ---\")\n",
    "\n",
    "\n",
    "print(\"Initializing DuckDB...\")\n",
    "con = duckdb.connect()\n",
    "print(\"DuckDB Initialized.\")\n",
    "\n",
    "\n",
    "print(\"Creating Brand and Category Mappings...\")\n",
    "try:\n",
    "    mapping_query = f\"\"\"\n",
    "        SELECT DISTINCT brand, main_category\n",
    "        FROM read_parquet('{input_path}')\n",
    "        WHERE brand IS NOT NULL AND TRIM(brand) != ''\n",
    "          AND main_category IS NOT NULL AND TRIM(main_category) != ''\n",
    "    \"\"\"\n",
    "    mappings_df = con.execute(mapping_query).fetch_df()\n",
    "\n",
    "    unique_brands = mappings_df['brand'].unique()\n",
    "    unique_categories = mappings_df['main_category'].unique() \n",
    "\n",
    "    brand_map = {brand: idx for idx, brand in enumerate(unique_brands)}\n",
    "    category_map = {cat: idx for idx, cat in enumerate(unique_categories)}\n",
    "\n",
    "    id_to_brand = {idx: brand for brand, idx in brand_map.items()}\n",
    "    id_to_category = {idx: cat for cat, idx in category_map.items()}\n",
    "\n",
    "    print(f\"Found {len(brand_map)} unique brands and {len(category_map)} unique categories.\")\n",
    "\n",
    "except Exception as e:\n",
    "    print(f\"Error creating mappings: {e}\")\n",
    "    con.close()\n",
    "    exit()\n",
    "\n",
    "\n",
    "print(\"Aggregating product features (mean_rating, total_reviews)...\")\n",
    "try:\n",
    "    aggregation_query = f\"\"\"\n",
    "        WITH ProductStats AS (\n",
    "            SELECT\n",
    "                parent_asin,\n",
    "                CAST(AVG(CAST(rating AS FLOAT)) AS FLOAT) as mean_rating,\n",
    "                COUNT(*) as total_reviews,\n",
    "                -- Use MIN/MAX or LIST to handle potential multiple brands/categories per parent_asin if needed\n",
    "                -- Using FIRST assumes one primary brand/category per parent_asin in the data\n",
    "                FIRST(brand) as brand,\n",
    "                FIRST(main_category) as main_category\n",
    "            FROM read_parquet('{input_path}')\n",
    "            WHERE rating BETWEEN 1 AND 5\n",
    "              AND parent_asin IS NOT NULL AND TRIM(parent_asin) != ''\n",
    "              AND brand IS NOT NULL AND TRIM(brand) != ''        -- Ensure brand is valid\n",
    "              AND main_category IS NOT NULL AND TRIM(main_category) != '' -- Ensure category is valid\n",
    "            GROUP BY parent_asin\n",
    "        )\n",
    "        -- Final selection ensures we only include products where brand/category mapping is possible\n",
    "        SELECT\n",
    "            ps.parent_asin as product_id,\n",
    "            ps.mean_rating,\n",
    "            ps.total_reviews,\n",
    "            ps.brand,\n",
    "            ps.main_category\n",
    "        FROM ProductStats ps\n",
    "        WHERE ps.brand IS NOT NULL AND ps.main_category IS NOT NULL; -- Redundant check, but safe\n",
    "    \"\"\"\n",
    "    \n",
    "    product_features_df = con.execute(aggregation_query).fetch_df()\n",
    "    print(f\"Aggregated features for {len(product_features_df)} unique products.\")\n",
    "\n",
    "    if product_features_df.empty:\n",
    "        print(\"No product data found after aggregation. Exiting.\")\n",
    "        con.close()\n",
    "        exit()\n",
    "\n",
    "except Exception as e:\n",
    "    print(f\"Error aggregating features: {e}\")\n",
    "    con.close()\n",
    "    exit()\n",
    "\n",
    "\n",
    "print(\"Preparing data for K-means (mapping IDs, scaling)...\")\n",
    "try:\n",
    "    \n",
    "    product_features_df['brand_id'] = product_features_df['brand'].map(brand_map)\n",
    "    product_features_df['category_id'] = product_features_df['main_category'].map(category_map)\n",
    "\n",
    "    missing_brands = product_features_df['brand_id'].isna().sum()\n",
    "    missing_categories = product_features_df['category_id'].isna().sum()\n",
    "    if missing_brands > 0 or missing_categories > 0:\n",
    "        print(f\"Warning: Found {missing_brands} products with unmapped brands and {missing_categories} with unmapped categories.\")\n",
    "        \n",
    "        # Let's drop rows with mapping issues for cleaner clustering\n",
    "        product_features_df.dropna(subset=['brand_id', 'category_id'], inplace=True)\n",
    "        product_features_df['brand_id'] = product_features_df['brand_id'].astype(int)\n",
    "        product_features_df['category_id'] = product_features_df['category_id'].astype(int)\n",
    "        print(f\"Proceeding with {len(product_features_df)} products after removing mapping failures.\")\n",
    "\n",
    "    if product_features_df.empty:\n",
    "        print(\"No products remaining after handling mapping issues. Exiting.\")\n",
    "        con.close()\n",
    "        exit()\n",
    "\n",
    "    features = product_features_df[['mean_rating', 'total_reviews', 'brand_id', 'category_id']].values\n",
    "\n",
    "    scaler = StandardScaler()\n",
    "    features_scaled = scaler.fit_transform(features)\n",
    "    print(\"Features scaled.\")\n",
    "\n",
    "except Exception as e:\n",
    "    print(f\"Error preparing data for K-means: {e}\")\n",
    "    con.close()\n",
    "    exit()\n",
    "\n",
    "\n",
    "print(f\"Applying K-means clustering (k={n_clusters})...\")\n",
    "try:\n",
    "    kmeans = KMeans(n_clusters=n_clusters, random_state=random_state, n_init='auto', verbose=0) # verbose=1 for logs\n",
    "    cluster_labels = kmeans.fit_predict(features_scaled)\n",
    "\n",
    "    product_features_df['cluster'] = cluster_labels\n",
    "    print(\"K-means fitting complete.\")\n",
    "\n",
    "except Exception as e:\n",
    "    print(f\"Error during K-means clustering: {e}\")\n",
    "    con.close()\n",
    "    exit()\n",
    "\n",
    "\n",
    "print(\"\\n--- Cluster Analysis ---\")\n",
    "for cluster_id in range(n_clusters):\n",
    "    # Filter data for the current cluster\n",
    "    cluster_df = product_features_df[product_features_df['cluster'] == cluster_id]\n",
    "    cluster_size = len(cluster_df)\n",
    "\n",
    "    if cluster_size == 0:\n",
    "        print(f\"\\nCluster {cluster_id}: Empty\")\n",
    "        continue\n",
    "\n",
    "    avg_mean_rating = cluster_df['mean_rating'].mean()\n",
    "    avg_total_reviews = cluster_df['total_reviews'].mean()\n",
    "    # Avg IDs are not meaningful, but calculated\n",
    "    avg_brand_id = cluster_df['brand_id'].mean()\n",
    "    avg_category_id = cluster_df['category_id'].mean()\n",
    "\n",
    "    # Find most common brands and categories for interpretation\n",
    "    top_brands = get_most_common(cluster_df['brand'], top_n=3)\n",
    "    top_categories = get_most_common(cluster_df['main_category'], top_n=3)\n",
    "\n",
    "    \n",
    "    rating_desc = \"High\" if avg_mean_rating >= 4.2 else \"Low\" if avg_mean_rating < 3.5 else \"Moderate\"\n",
    "   \n",
    "    review_desc = \"Very High\" if avg_total_reviews > 1000 else \"High\" if avg_total_reviews > 100 else \"Moderate\" if avg_total_reviews > 10 else \"Low\"\n",
    "    \n",
    "    # Describe common elements\n",
    "    brands_str = \", \".join([f\"{b} ({c})\" for b, c in top_brands]) if top_brands else \"N/A\"\n",
    "    categories_str = \", \".join([f\"{cat} ({c})\" for cat, c in top_categories]) if top_categories else \"N/A\"\n",
    "\n",
    "    interpretation = (\n",
    "        f\"{rating_desc} Rating ({avg_mean_rating:.2f}), {review_desc} Reviews ({avg_total_reviews:.1f}). \"\n",
    "        f\"Common Brands: [{brands_str}]. Common Categories: [{categories_str}].\"\n",
    "    )\n",
    "\n",
    "    print(f\"\\nCluster {cluster_id}:\")\n",
    "    print(f\"  Size: {cluster_size} products ({cluster_size / len(product_features_df) * 100:.1f}%)\")\n",
    "    print(f\"  Avg Mean Rating: {avg_mean_rating:.2f}\")\n",
    "    print(f\"  Avg Total Reviews: {avg_total_reviews:.2f}\")\n",
    "    \n",
    "    print(f\"  Avg Brand ID: {avg_brand_id:.2f}\")\n",
    "    print(f\"  Avg Category ID: {avg_category_id:.2f}\")\n",
    "    print(f\"  Top 3 Brands: {top_brands}\")\n",
    "    print(f\"  Top 3 Categories: {top_categories}\")\n",
    "    print(f\"  Interpretation: {interpretation}\")\n",
    "\n",
    "\n",
    "print(\"\\nClosing DuckDB connection...\")\n",
    "con.close()\n",
    "\n",
    "end_time = time.time()\n",
    "print(f\"--- Script finished in {end_time - start_time:.2f} seconds ---\")"
   ]
  },
  {
   "cell_type": "markdown",
   "id": "5db4e6b0",
   "metadata": {},
   "source": [
    "## Task 4: Binary Sentiment Prediction (Logistic Regression)\n",
    "\n",
    "### Objective\n",
    "Perform binary sentiment classification on review text, where:\n",
    "- **Positive**: Rating > 3\n",
    "- **Negative**: Rating ≤ 3\n",
    "Evaluate the model using accuracy, F1 score, and confusion matrix.\n",
    "\n",
    "### Methodology\n",
    "1. **Data Preparation**:\n",
    "   - Use DuckDB to query review text and ratings from parquet files.\n",
    "   - Filter for valid ratings (1-5) and non-empty review text.\n",
    "   - Create binary sentiment labels (1 for positive, 0 for negative).\n",
    "   - Split data into 80% training and 20% test sets, stratified by sentiment.\n",
    "2. **Text Vectorization**:\n",
    "   - Apply TF-IDF vectorization on review text using `TfidfVectorizer` with:\n",
    "     - Lowercase conversion.\n",
    "     - Token pattern `\\b\\w+\\b`.\n",
    "     - Minimum document frequency of 5.\n",
    "     - Maximum document frequency of 80%.\n",
    "3. **Classifier**:\n",
    "   - Use `SGDClassifier` with `log_loss` to implement logistic regression.\n",
    "   - Train the model in batches of 5 million reviews to handle the large dataset.\n",
    "4. **Evaluation**:\n",
    "   - Compute accuracy, F1 score, and confusion matrix for each test batch.\n",
    "   - Aggregate metrics across all batches to report overall performance.\n",
    "\n",
    "### Implementation\n",
    "The following code processes the dataset in batches, trains the logistic regression model, and evaluates performance. It handles 503,024,752 valid reviews, with results reported per batch and overall."
   ]
  },
  {
   "cell_type": "code",
   "execution_count": 3,
   "id": "0f82ce40",
   "metadata": {},
   "outputs": [
    {
     "data": {
      "application/vnd.jupyter.widget-view+json": {
       "model_id": "f8b3102b9f5d40aba719e2cc5c2decb4",
       "version_major": 2,
       "version_minor": 0
      },
      "text/plain": [
       "FloatProgress(value=0.0, layout=Layout(width='auto'), style=ProgressStyle(bar_color='black'))"
      ]
     },
     "metadata": {},
     "output_type": "display_data"
    },
    {
     "name": "stdout",
     "output_type": "stream",
     "text": [
      " Batch 1 — accuracy: 0.8713, F1: 0.9175\n",
      "[[155895  99598]\n",
      " [ 29096 715411]] \n",
      "\n"
     ]
    },
    {
     "data": {
      "application/vnd.jupyter.widget-view+json": {
       "model_id": "0e1535d83dda4f2fa82a751df042aa8e",
       "version_major": 2,
       "version_minor": 0
      },
      "text/plain": [
       "FloatProgress(value=0.0, layout=Layout(width='auto'), style=ProgressStyle(bar_color='black'))"
      ]
     },
     "metadata": {},
     "output_type": "display_data"
    },
    {
     "name": "stdout",
     "output_type": "stream",
     "text": [
      " Batch 2 — accuracy: 0.8839, F1: 0.9307\n",
      "[[103513  96347]\n",
      " [ 19786 780354]] \n",
      "\n"
     ]
    },
    {
     "data": {
      "application/vnd.jupyter.widget-view+json": {
       "model_id": "0033f1a149cd411b886a8c324478860d",
       "version_major": 2,
       "version_minor": 0
      },
      "text/plain": [
       "FloatProgress(value=0.0, layout=Layout(width='auto'), style=ProgressStyle(bar_color='black'))"
      ]
     },
     "metadata": {},
     "output_type": "display_data"
    },
    {
     "name": "stdout",
     "output_type": "stream",
     "text": [
      " Batch 3 — accuracy: 0.8802, F1: 0.9266\n",
      "[[124176  97018]\n",
      " [ 22800 756006]] \n",
      "\n"
     ]
    },
    {
     "data": {
      "application/vnd.jupyter.widget-view+json": {
       "model_id": "be163ccd11f14005829364056551285a",
       "version_major": 2,
       "version_minor": 0
      },
      "text/plain": [
       "FloatProgress(value=0.0, layout=Layout(width='auto'), style=ProgressStyle(bar_color='black'))"
      ]
     },
     "metadata": {},
     "output_type": "display_data"
    },
    {
     "name": "stdout",
     "output_type": "stream",
     "text": [
      " Batch 4 — accuracy: 0.8753, F1: 0.9276\n",
      "[[ 75756 109543]\n",
      " [ 15193 799508]] \n",
      "\n"
     ]
    },
    {
     "data": {
      "application/vnd.jupyter.widget-view+json": {
       "model_id": "56ef6a2d62f34f33ae1d75bde96b2947",
       "version_major": 2,
       "version_minor": 0
      },
      "text/plain": [
       "FloatProgress(value=0.0, layout=Layout(width='auto'), style=ProgressStyle(bar_color='black'))"
      ]
     },
     "metadata": {},
     "output_type": "display_data"
    },
    {
     "name": "stdout",
     "output_type": "stream",
     "text": [
      " Batch 5 — accuracy: 0.8732, F1: 0.9244\n",
      "[[ 98472 108185]\n",
      " [ 18593 774750]] \n",
      "\n"
     ]
    },
    {
     "data": {
      "application/vnd.jupyter.widget-view+json": {
       "model_id": "224e0d6f1af24dbf971262f73b0db1ce",
       "version_major": 2,
       "version_minor": 0
      },
      "text/plain": [
       "FloatProgress(value=0.0, layout=Layout(width='auto'), style=ProgressStyle(bar_color='black'))"
      ]
     },
     "metadata": {},
     "output_type": "display_data"
    },
    {
     "name": "stdout",
     "output_type": "stream",
     "text": [
      " Batch 6 — accuracy: 0.8732, F1: 0.9222\n",
      "[[121276 104512]\n",
      " [ 22336 751876]] \n",
      "\n"
     ]
    },
    {
     "data": {
      "application/vnd.jupyter.widget-view+json": {
       "model_id": "c58347957bf241b79a53b8eb12e0cb8d",
       "version_major": 2,
       "version_minor": 0
      },
      "text/plain": [
       "FloatProgress(value=0.0, layout=Layout(width='auto'), style=ProgressStyle(bar_color='black'))"
      ]
     },
     "metadata": {},
     "output_type": "display_data"
    },
    {
     "name": "stdout",
     "output_type": "stream",
     "text": [
      " Batch 7 — accuracy: 0.8686, F1: 0.9161\n",
      "[[150792 104706]\n",
      " [ 26691 717811]] \n",
      "\n"
     ]
    },
    {
     "data": {
      "application/vnd.jupyter.widget-view+json": {
       "model_id": "cacef07c50cf4a97abf6ecff2d044812",
       "version_major": 2,
       "version_minor": 0
      },
      "text/plain": [
       "FloatProgress(value=0.0, layout=Layout(width='auto'), style=ProgressStyle(bar_color='black'))"
      ]
     },
     "metadata": {},
     "output_type": "display_data"
    },
    {
     "name": "stdout",
     "output_type": "stream",
     "text": [
      " Batch 8 — accuracy: 0.8684, F1: 0.9200\n",
      "[[111479 110180]\n",
      " [ 21418 756923]] \n",
      "\n"
     ]
    },
    {
     "data": {
      "application/vnd.jupyter.widget-view+json": {
       "model_id": "525af04701f34f36bf6e492b6fe8194c",
       "version_major": 2,
       "version_minor": 0
      },
      "text/plain": [
       "FloatProgress(value=0.0, layout=Layout(width='auto'), style=ProgressStyle(bar_color='black'))"
      ]
     },
     "metadata": {},
     "output_type": "display_data"
    },
    {
     "name": "stdout",
     "output_type": "stream",
     "text": [
      " Batch 9 — accuracy: 0.8599, F1: 0.9095\n",
      "[[156018 111985]\n",
      " [ 28105 703892]] \n",
      "\n"
     ]
    },
    {
     "data": {
      "application/vnd.jupyter.widget-view+json": {
       "model_id": "733ad52f21d54563a2b3d21c6bc00cf5",
       "version_major": 2,
       "version_minor": 0
      },
      "text/plain": [
       "FloatProgress(value=0.0, layout=Layout(width='auto'), style=ProgressStyle(bar_color='black'))"
      ]
     },
     "metadata": {},
     "output_type": "display_data"
    },
    {
     "name": "stdout",
     "output_type": "stream",
     "text": [
      " Batch 10 — accuracy: 0.8594, F1: 0.9147\n",
      "[[105720 116688]\n",
      " [ 23880 753712]] \n",
      "\n"
     ]
    },
    {
     "data": {
      "application/vnd.jupyter.widget-view+json": {
       "model_id": "56b29d17f6524c6c8947b3513490fc99",
       "version_major": 2,
       "version_minor": 0
      },
      "text/plain": [
       "FloatProgress(value=0.0, layout=Layout(width='auto'), style=ProgressStyle(bar_color='black'))"
      ]
     },
     "metadata": {},
     "output_type": "display_data"
    },
    {
     "name": "stdout",
     "output_type": "stream",
     "text": [
      " Batch 11 — accuracy: 0.8604, F1: 0.9141\n",
      "[[117397 114830]\n",
      " [ 24758 743015]] \n",
      "\n"
     ]
    },
    {
     "data": {
      "application/vnd.jupyter.widget-view+json": {
       "model_id": "31a73d46688e4e258d3952e1edb0b987",
       "version_major": 2,
       "version_minor": 0
      },
      "text/plain": [
       "FloatProgress(value=0.0, layout=Layout(width='auto'), style=ProgressStyle(bar_color='black'))"
      ]
     },
     "metadata": {},
     "output_type": "display_data"
    },
    {
     "name": "stdout",
     "output_type": "stream",
     "text": [
      " Batch 12 — accuracy: 0.8618, F1: 0.9133\n",
      "[[133923 111594]\n",
      " [ 26591 727892]] \n",
      "\n"
     ]
    },
    {
     "data": {
      "application/vnd.jupyter.widget-view+json": {
       "model_id": "efccbac560ec4602a7fe80fc3a5e3ac3",
       "version_major": 2,
       "version_minor": 0
      },
      "text/plain": [
       "FloatProgress(value=0.0, layout=Layout(width='auto'), style=ProgressStyle(bar_color='black'))"
      ]
     },
     "metadata": {},
     "output_type": "display_data"
    },
    {
     "name": "stdout",
     "output_type": "stream",
     "text": [
      " Batch 13 — accuracy: 0.8635, F1: 0.9173\n",
      "[[106781 116880]\n",
      " [ 19573 756766]] \n",
      "\n"
     ]
    },
    {
     "data": {
      "application/vnd.jupyter.widget-view+json": {
       "model_id": "6112767bddad4ca8917573206f311842",
       "version_major": 2,
       "version_minor": 0
      },
      "text/plain": [
       "FloatProgress(value=0.0, layout=Layout(width='auto'), style=ProgressStyle(bar_color='black'))"
      ]
     },
     "metadata": {},
     "output_type": "display_data"
    },
    {
     "name": "stdout",
     "output_type": "stream",
     "text": [
      " Batch 14 — accuracy: 0.8688, F1: 0.9277\n",
      "[[ 27198 124035]\n",
      " [  7201 841566]] \n",
      "\n"
     ]
    },
    {
     "data": {
      "application/vnd.jupyter.widget-view+json": {
       "model_id": "9ef3b06bec2341998327e006fcb8a69a",
       "version_major": 2,
       "version_minor": 0
      },
      "text/plain": [
       "FloatProgress(value=0.0, layout=Layout(width='auto'), style=ProgressStyle(bar_color='black'))"
      ]
     },
     "metadata": {},
     "output_type": "display_data"
    },
    {
     "name": "stdout",
     "output_type": "stream",
     "text": [
      " Batch 15 — accuracy: 0.8718, F1: 0.9293\n",
      "[[ 29420 120828]\n",
      " [  7353 842399]] \n",
      "\n"
     ]
    },
    {
     "data": {
      "application/vnd.jupyter.widget-view+json": {
       "model_id": "68e8a91844804b819a4ad9c2b27b5ad9",
       "version_major": 2,
       "version_minor": 0
      },
      "text/plain": [
       "FloatProgress(value=0.0, layout=Layout(width='auto'), style=ProgressStyle(bar_color='black'))"
      ]
     },
     "metadata": {},
     "output_type": "display_data"
    },
    {
     "name": "stdout",
     "output_type": "stream",
     "text": [
      " Batch 16 — accuracy: 0.8729, F1: 0.9298\n",
      "[[ 30664 120393]\n",
      " [  6726 842217]] \n",
      "\n"
     ]
    },
    {
     "data": {
      "application/vnd.jupyter.widget-view+json": {
       "model_id": "7fa6abfcc22d40bd99f19eace2078833",
       "version_major": 2,
       "version_minor": 0
      },
      "text/plain": [
       "FloatProgress(value=0.0, layout=Layout(width='auto'), style=ProgressStyle(bar_color='black'))"
      ]
     },
     "metadata": {},
     "output_type": "display_data"
    },
    {
     "name": "stdout",
     "output_type": "stream",
     "text": [
      " Batch 17 — accuracy: 0.8739, F1: 0.9303\n",
      "[[ 31804 119065]\n",
      " [  7072 842059]] \n",
      "\n"
     ]
    },
    {
     "data": {
      "application/vnd.jupyter.widget-view+json": {
       "model_id": "303c3fa3770a4933bc5e17ec3867d783",
       "version_major": 2,
       "version_minor": 0
      },
      "text/plain": [
       "FloatProgress(value=0.0, layout=Layout(width='auto'), style=ProgressStyle(bar_color='black'))"
      ]
     },
     "metadata": {},
     "output_type": "display_data"
    },
    {
     "name": "stdout",
     "output_type": "stream",
     "text": [
      " Batch 18 — accuracy: 0.8747, F1: 0.9307\n",
      "[[ 32998 118063]\n",
      " [  7204 841735]] \n",
      "\n"
     ]
    },
    {
     "data": {
      "application/vnd.jupyter.widget-view+json": {
       "model_id": "ac2070da2dce4bae93bb5222e8562c24",
       "version_major": 2,
       "version_minor": 0
      },
      "text/plain": [
       "FloatProgress(value=0.0, layout=Layout(width='auto'), style=ProgressStyle(bar_color='black'))"
      ]
     },
     "metadata": {},
     "output_type": "display_data"
    },
    {
     "name": "stdout",
     "output_type": "stream",
     "text": [
      " Batch 19 — accuracy: 0.8767, F1: 0.9326\n",
      "[[ 23018 117543]\n",
      " [  5783 853656]] \n",
      "\n"
     ]
    },
    {
     "data": {
      "application/vnd.jupyter.widget-view+json": {
       "model_id": "45ff9873db6449a988c19819a94d457a",
       "version_major": 2,
       "version_minor": 0
      },
      "text/plain": [
       "FloatProgress(value=0.0, layout=Layout(width='auto'), style=ProgressStyle(bar_color='black'))"
      ]
     },
     "metadata": {},
     "output_type": "display_data"
    },
    {
     "name": "stdout",
     "output_type": "stream",
     "text": [
      " Batch 20 — accuracy: 0.8592, F1: 0.9173\n",
      "[[ 78177 122813]\n",
      " [ 17961 781049]] \n",
      "\n"
     ]
    },
    {
     "data": {
      "application/vnd.jupyter.widget-view+json": {
       "model_id": "a91d4448f8464e81a91fe31f426c4aee",
       "version_major": 2,
       "version_minor": 0
      },
      "text/plain": [
       "FloatProgress(value=0.0, layout=Layout(width='auto'), style=ProgressStyle(bar_color='black'))"
      ]
     },
     "metadata": {},
     "output_type": "display_data"
    },
    {
     "name": "stdout",
     "output_type": "stream",
     "text": [
      " Batch 21 — accuracy: 0.8475, F1: 0.9016\n",
      "[[148854 119608]\n",
      " [ 32877 698661]] \n",
      "\n"
     ]
    },
    {
     "data": {
      "application/vnd.jupyter.widget-view+json": {
       "model_id": "283de10acfd04473a1a684e03532dfbf",
       "version_major": 2,
       "version_minor": 0
      },
      "text/plain": [
       "FloatProgress(value=0.0, layout=Layout(width='auto'), style=ProgressStyle(bar_color='black'))"
      ]
     },
     "metadata": {},
     "output_type": "display_data"
    },
    {
     "name": "stdout",
     "output_type": "stream",
     "text": [
      " Batch 22 — accuracy: 0.8538, F1: 0.9053\n",
      "[[154724 113956]\n",
      " [ 32260 699060]] \n",
      "\n"
     ]
    },
    {
     "data": {
      "application/vnd.jupyter.widget-view+json": {
       "model_id": "e82568dfd9724d468fbeee4d72c9b1ab",
       "version_major": 2,
       "version_minor": 0
      },
      "text/plain": [
       "FloatProgress(value=0.0, layout=Layout(width='auto'), style=ProgressStyle(bar_color='black'))"
      ]
     },
     "metadata": {},
     "output_type": "display_data"
    },
    {
     "name": "stdout",
     "output_type": "stream",
     "text": [
      " Batch 23 — accuracy: 0.8582, F1: 0.9080\n",
      "[[158018 110158]\n",
      " [ 31686 700138]] \n",
      "\n"
     ]
    },
    {
     "data": {
      "application/vnd.jupyter.widget-view+json": {
       "model_id": "9554992b33634fd7a291099be40c8b9e",
       "version_major": 2,
       "version_minor": 0
      },
      "text/plain": [
       "FloatProgress(value=0.0, layout=Layout(width='auto'), style=ProgressStyle(bar_color='black'))"
      ]
     },
     "metadata": {},
     "output_type": "display_data"
    },
    {
     "name": "stdout",
     "output_type": "stream",
     "text": [
      " Batch 24 — accuracy: 0.8574, F1: 0.9098\n",
      "[[137887 112836]\n",
      " [ 29749 719528]] \n",
      "\n"
     ]
    },
    {
     "data": {
      "application/vnd.jupyter.widget-view+json": {
       "model_id": "0abdf35ebb984db0b044e41f859a1563",
       "version_major": 2,
       "version_minor": 0
      },
      "text/plain": [
       "FloatProgress(value=0.0, layout=Layout(width='auto'), style=ProgressStyle(bar_color='black'))"
      ]
     },
     "metadata": {},
     "output_type": "display_data"
    },
    {
     "name": "stdout",
     "output_type": "stream",
     "text": [
      " Batch 25 — accuracy: 0.8577, F1: 0.9131\n",
      "[[110437 116237]\n",
      " [ 26023 747303]] \n",
      "\n"
     ]
    },
    {
     "data": {
      "application/vnd.jupyter.widget-view+json": {
       "model_id": "282a69e0d7c04fb4a05a4734659eeabb",
       "version_major": 2,
       "version_minor": 0
      },
      "text/plain": [
       "FloatProgress(value=0.0, layout=Layout(width='auto'), style=ProgressStyle(bar_color='black'))"
      ]
     },
     "metadata": {},
     "output_type": "display_data"
    },
    {
     "name": "stdout",
     "output_type": "stream",
     "text": [
      " Batch 26 — accuracy: 0.8608, F1: 0.9148\n",
      "[[113293 112905]\n",
      " [ 26324 747478]] \n",
      "\n"
     ]
    },
    {
     "data": {
      "application/vnd.jupyter.widget-view+json": {
       "model_id": "4c97b4c1509a4d948390dcd42e367fb2",
       "version_major": 2,
       "version_minor": 0
      },
      "text/plain": [
       "FloatProgress(value=0.0, layout=Layout(width='auto'), style=ProgressStyle(bar_color='black'))"
      ]
     },
     "metadata": {},
     "output_type": "display_data"
    },
    {
     "name": "stdout",
     "output_type": "stream",
     "text": [
      " Batch 27 — accuracy: 0.8628, F1: 0.9159\n",
      "[[115644 111158]\n",
      " [ 25996 747202]] \n",
      "\n"
     ]
    },
    {
     "data": {
      "application/vnd.jupyter.widget-view+json": {
       "model_id": "269a8eed92334cf286ee8b59e2114900",
       "version_major": 2,
       "version_minor": 0
      },
      "text/plain": [
       "FloatProgress(value=0.0, layout=Layout(width='auto'), style=ProgressStyle(bar_color='black'))"
      ]
     },
     "metadata": {},
     "output_type": "display_data"
    },
    {
     "name": "stdout",
     "output_type": "stream",
     "text": [
      " Batch 28 — accuracy: 0.8643, F1: 0.9168\n",
      "[[116449 109364]\n",
      " [ 26380 747807]] \n",
      "\n"
     ]
    },
    {
     "data": {
      "application/vnd.jupyter.widget-view+json": {
       "model_id": "15883db4932441779489c2eb3034a4ec",
       "version_major": 2,
       "version_minor": 0
      },
      "text/plain": [
       "FloatProgress(value=0.0, layout=Layout(width='auto'), style=ProgressStyle(bar_color='black'))"
      ]
     },
     "metadata": {},
     "output_type": "display_data"
    },
    {
     "name": "stdout",
     "output_type": "stream",
     "text": [
      " Batch 29 — accuracy: 0.8654, F1: 0.9175\n",
      "[[117600 108303]\n",
      " [ 26266 747831]] \n",
      "\n"
     ]
    },
    {
     "data": {
      "application/vnd.jupyter.widget-view+json": {
       "model_id": "45b8e6a2388e47d8b79b032db71ca5eb",
       "version_major": 2,
       "version_minor": 0
      },
      "text/plain": [
       "FloatProgress(value=0.0, layout=Layout(width='auto'), style=ProgressStyle(bar_color='black'))"
      ]
     },
     "metadata": {},
     "output_type": "display_data"
    },
    {
     "name": "stdout",
     "output_type": "stream",
     "text": [
      " Batch 30 — accuracy: 0.8665, F1: 0.9180\n",
      "[[118989 107263]\n",
      " [ 26243 747505]] \n",
      "\n"
     ]
    },
    {
     "data": {
      "application/vnd.jupyter.widget-view+json": {
       "model_id": "62130e76f510405eaddedb7bf4f62890",
       "version_major": 2,
       "version_minor": 0
      },
      "text/plain": [
       "FloatProgress(value=0.0, layout=Layout(width='auto'), style=ProgressStyle(bar_color='black'))"
      ]
     },
     "metadata": {},
     "output_type": "display_data"
    },
    {
     "name": "stdout",
     "output_type": "stream",
     "text": [
      " Batch 31 — accuracy: 0.8679, F1: 0.9188\n",
      "[[120139 106231]\n",
      " [ 25895 747735]] \n",
      "\n"
     ]
    },
    {
     "data": {
      "application/vnd.jupyter.widget-view+json": {
       "model_id": "d6ead1db482a4d79977ada8abcd5a8a0",
       "version_major": 2,
       "version_minor": 0
      },
      "text/plain": [
       "FloatProgress(value=0.0, layout=Layout(width='auto'), style=ProgressStyle(bar_color='black'))"
      ]
     },
     "metadata": {},
     "output_type": "display_data"
    },
    {
     "name": "stdout",
     "output_type": "stream",
     "text": [
      " Batch 32 — accuracy: 0.8686, F1: 0.9192\n",
      "[[120636 105040]\n",
      " [ 26405 747919]] \n",
      "\n"
     ]
    },
    {
     "data": {
      "application/vnd.jupyter.widget-view+json": {
       "model_id": "208dcd9a05f3463e80fa76596fbeb8a9",
       "version_major": 2,
       "version_minor": 0
      },
      "text/plain": [
       "FloatProgress(value=0.0, layout=Layout(width='auto'), style=ProgressStyle(bar_color='black'))"
      ]
     },
     "metadata": {},
     "output_type": "display_data"
    },
    {
     "name": "stdout",
     "output_type": "stream",
     "text": [
      " Batch 33 — accuracy: 0.8698, F1: 0.9200\n",
      "[[121737 104349]\n",
      " [ 25810 748104]] \n",
      "\n"
     ]
    },
    {
     "data": {
      "application/vnd.jupyter.widget-view+json": {
       "model_id": "25af5cdf152c477eb49fd3d0e7ac5c88",
       "version_major": 2,
       "version_minor": 0
      },
      "text/plain": [
       "FloatProgress(value=0.0, layout=Layout(width='auto'), style=ProgressStyle(bar_color='black'))"
      ]
     },
     "metadata": {},
     "output_type": "display_data"
    },
    {
     "name": "stdout",
     "output_type": "stream",
     "text": [
      " Batch 34 — accuracy: 0.8693, F1: 0.9196\n",
      "[[121986 104659]\n",
      " [ 26053 747302]] \n",
      "\n"
     ]
    },
    {
     "data": {
      "application/vnd.jupyter.widget-view+json": {
       "model_id": "44fd0eff57964733898644e18d84b091",
       "version_major": 2,
       "version_minor": 0
      },
      "text/plain": [
       "FloatProgress(value=0.0, layout=Layout(width='auto'), style=ProgressStyle(bar_color='black'))"
      ]
     },
     "metadata": {},
     "output_type": "display_data"
    },
    {
     "name": "stdout",
     "output_type": "stream",
     "text": [
      " Batch 35 — accuracy: 0.8701, F1: 0.9201\n",
      "[[122277 103999]\n",
      " [ 25913 747811]] \n",
      "\n"
     ]
    },
    {
     "data": {
      "application/vnd.jupyter.widget-view+json": {
       "model_id": "da6c150c4e3d46d1ba418c78bd61df69",
       "version_major": 2,
       "version_minor": 0
      },
      "text/plain": [
       "FloatProgress(value=0.0, layout=Layout(width='auto'), style=ProgressStyle(bar_color='black'))"
      ]
     },
     "metadata": {},
     "output_type": "display_data"
    },
    {
     "name": "stdout",
     "output_type": "stream",
     "text": [
      " Batch 36 — accuracy: 0.8704, F1: 0.9202\n",
      "[[122801 103740]\n",
      " [ 25862 747597]] \n",
      "\n"
     ]
    },
    {
     "data": {
      "application/vnd.jupyter.widget-view+json": {
       "model_id": "9ef88152faf14996885d70f974c05053",
       "version_major": 2,
       "version_minor": 0
      },
      "text/plain": [
       "FloatProgress(value=0.0, layout=Layout(width='auto'), style=ProgressStyle(bar_color='black'))"
      ]
     },
     "metadata": {},
     "output_type": "display_data"
    },
    {
     "name": "stdout",
     "output_type": "stream",
     "text": [
      " Batch 37 — accuracy: 0.8651, F1: 0.9175\n",
      "[[115343 112055]\n",
      " [ 22825 749777]] \n",
      "\n"
     ]
    },
    {
     "data": {
      "application/vnd.jupyter.widget-view+json": {
       "model_id": "078f620b432b4c7bbe78a6783471abbb",
       "version_major": 2,
       "version_minor": 0
      },
      "text/plain": [
       "FloatProgress(value=0.0, layout=Layout(width='auto'), style=ProgressStyle(bar_color='black'))"
      ]
     },
     "metadata": {},
     "output_type": "display_data"
    },
    {
     "name": "stdout",
     "output_type": "stream",
     "text": [
      " Batch 38 — accuracy: 0.8566, F1: 0.9117\n",
      "[[116018 123200]\n",
      " [ 20250 740532]] \n",
      "\n"
     ]
    },
    {
     "data": {
      "application/vnd.jupyter.widget-view+json": {
       "model_id": "ef5622cc4a084bd9a7f2c96263cb173f",
       "version_major": 2,
       "version_minor": 0
      },
      "text/plain": [
       "FloatProgress(value=0.0, layout=Layout(width='auto'), style=ProgressStyle(bar_color='black'))"
      ]
     },
     "metadata": {},
     "output_type": "display_data"
    },
    {
     "name": "stdout",
     "output_type": "stream",
     "text": [
      " Batch 39 — accuracy: 0.8584, F1: 0.9127\n",
      "[[117823 121077]\n",
      " [ 20569 740531]] \n",
      "\n"
     ]
    },
    {
     "data": {
      "application/vnd.jupyter.widget-view+json": {
       "model_id": "94851b23ca4b41ecb179c533fc78fd19",
       "version_major": 2,
       "version_minor": 0
      },
      "text/plain": [
       "FloatProgress(value=0.0, layout=Layout(width='auto'), style=ProgressStyle(bar_color='black'))"
      ]
     },
     "metadata": {},
     "output_type": "display_data"
    },
    {
     "name": "stdout",
     "output_type": "stream",
     "text": [
      " Batch 40 — accuracy: 0.8602, F1: 0.9137\n",
      "[[119800 118848]\n",
      " [ 20936 740416]] \n",
      "\n"
     ]
    },
    {
     "data": {
      "application/vnd.jupyter.widget-view+json": {
       "model_id": "cf7c97d4ddf4433092c8414feb63c2d9",
       "version_major": 2,
       "version_minor": 0
      },
      "text/plain": [
       "FloatProgress(value=0.0, layout=Layout(width='auto'), style=ProgressStyle(bar_color='black'))"
      ]
     },
     "metadata": {},
     "output_type": "display_data"
    },
    {
     "name": "stdout",
     "output_type": "stream",
     "text": [
      " Batch 41 — accuracy: 0.8616, F1: 0.9145\n",
      "[[121634 117385]\n",
      " [ 21004 739977]] \n",
      "\n"
     ]
    },
    {
     "data": {
      "application/vnd.jupyter.widget-view+json": {
       "model_id": "ac83f4e0eee44c9aa498047f13f7d0fa",
       "version_major": 2,
       "version_minor": 0
      },
      "text/plain": [
       "FloatProgress(value=0.0, layout=Layout(width='auto'), style=ProgressStyle(bar_color='black'))"
      ]
     },
     "metadata": {},
     "output_type": "display_data"
    },
    {
     "name": "stdout",
     "output_type": "stream",
     "text": [
      " Batch 42 — accuracy: 0.8623, F1: 0.9148\n",
      "[[123186 116297]\n",
      " [ 21383 739134]] \n",
      "\n"
     ]
    },
    {
     "data": {
      "application/vnd.jupyter.widget-view+json": {
       "model_id": "588aa15ac62349308bd56afadb7265d3",
       "version_major": 2,
       "version_minor": 0
      },
      "text/plain": [
       "FloatProgress(value=0.0, layout=Layout(width='auto'), style=ProgressStyle(bar_color='black'))"
      ]
     },
     "metadata": {},
     "output_type": "display_data"
    },
    {
     "name": "stdout",
     "output_type": "stream",
     "text": [
      " Batch 43 — accuracy: 0.8634, F1: 0.9154\n",
      "[[123786 115267]\n",
      " [ 21356 739591]] \n",
      "\n"
     ]
    },
    {
     "data": {
      "application/vnd.jupyter.widget-view+json": {
       "model_id": "fb5d8333124546459ccf50d653a1d60e",
       "version_major": 2,
       "version_minor": 0
      },
      "text/plain": [
       "FloatProgress(value=0.0, layout=Layout(width='auto'), style=ProgressStyle(bar_color='black'))"
      ]
     },
     "metadata": {},
     "output_type": "display_data"
    },
    {
     "name": "stdout",
     "output_type": "stream",
     "text": [
      " Batch 44 — accuracy: 0.8640, F1: 0.9157\n",
      "[[124857 114585]\n",
      " [ 21455 739103]] \n",
      "\n"
     ]
    },
    {
     "data": {
      "application/vnd.jupyter.widget-view+json": {
       "model_id": "7a7556aecc2f4b91b5af648ea37356b7",
       "version_major": 2,
       "version_minor": 0
      },
      "text/plain": [
       "FloatProgress(value=0.0, layout=Layout(width='auto'), style=ProgressStyle(bar_color='black'))"
      ]
     },
     "metadata": {},
     "output_type": "display_data"
    },
    {
     "name": "stdout",
     "output_type": "stream",
     "text": [
      " Batch 45 — accuracy: 0.8651, F1: 0.9164\n",
      "[[125957 113174]\n",
      " [ 21764 739105]] \n",
      "\n"
     ]
    },
    {
     "data": {
      "application/vnd.jupyter.widget-view+json": {
       "model_id": "fbd596973e78449f87170ea1c2200173",
       "version_major": 2,
       "version_minor": 0
      },
      "text/plain": [
       "FloatProgress(value=0.0, layout=Layout(width='auto'), style=ProgressStyle(bar_color='black'))"
      ]
     },
     "metadata": {},
     "output_type": "display_data"
    },
    {
     "name": "stdout",
     "output_type": "stream",
     "text": [
      " Batch 46 — accuracy: 0.8519, F1: 0.9095\n",
      "[[108044 127419]\n",
      " [ 20680 743857]] \n",
      "\n"
     ]
    },
    {
     "data": {
      "application/vnd.jupyter.widget-view+json": {
       "model_id": "888ff040ca754eb3a0a8da16926bafa4",
       "version_major": 2,
       "version_minor": 0
      },
      "text/plain": [
       "FloatProgress(value=0.0, layout=Layout(width='auto'), style=ProgressStyle(bar_color='black'))"
      ]
     },
     "metadata": {},
     "output_type": "display_data"
    },
    {
     "name": "stdout",
     "output_type": "stream",
     "text": [
      " Batch 47 — accuracy: 0.8483, F1: 0.9068\n",
      "[[109853 130318]\n",
      " [ 21430 738399]] \n",
      "\n"
     ]
    },
    {
     "data": {
      "application/vnd.jupyter.widget-view+json": {
       "model_id": "88988386619c471ebe6ebc5427c65939",
       "version_major": 2,
       "version_minor": 0
      },
      "text/plain": [
       "FloatProgress(value=0.0, layout=Layout(width='auto'), style=ProgressStyle(bar_color='black'))"
      ]
     },
     "metadata": {},
     "output_type": "display_data"
    },
    {
     "name": "stdout",
     "output_type": "stream",
     "text": [
      " Batch 48 — accuracy: 0.8523, F1: 0.9088\n",
      "[[116142 125561]\n",
      " [ 22109 736188]] \n",
      "\n"
     ]
    },
    {
     "data": {
      "application/vnd.jupyter.widget-view+json": {
       "model_id": "0d10ddefb7d94791b1427c021d0549df",
       "version_major": 2,
       "version_minor": 0
      },
      "text/plain": [
       "FloatProgress(value=0.0, layout=Layout(width='auto'), style=ProgressStyle(bar_color='black'))"
      ]
     },
     "metadata": {},
     "output_type": "display_data"
    },
    {
     "name": "stdout",
     "output_type": "stream",
     "text": [
      " Batch 49 — accuracy: 0.8692, F1: 0.9208\n",
      "[[109180 111168]\n",
      " [ 19600 760052]] \n",
      "\n"
     ]
    },
    {
     "data": {
      "application/vnd.jupyter.widget-view+json": {
       "model_id": "eae9c99b7f864800b85b3c10578ae165",
       "version_major": 2,
       "version_minor": 0
      },
      "text/plain": [
       "FloatProgress(value=0.0, layout=Layout(width='auto'), style=ProgressStyle(bar_color='black'))"
      ]
     },
     "metadata": {},
     "output_type": "display_data"
    },
    {
     "name": "stdout",
     "output_type": "stream",
     "text": [
      " Batch 50 — accuracy: 0.8629, F1: 0.9165\n",
      "[[110593 116654]\n",
      " [ 20487 752266]] \n",
      "\n"
     ]
    },
    {
     "data": {
      "application/vnd.jupyter.widget-view+json": {
       "model_id": "0b3e1789bba94e36a917afac3f6b9852",
       "version_major": 2,
       "version_minor": 0
      },
      "text/plain": [
       "FloatProgress(value=0.0, layout=Layout(width='auto'), style=ProgressStyle(bar_color='black'))"
      ]
     },
     "metadata": {},
     "output_type": "display_data"
    },
    {
     "name": "stdout",
     "output_type": "stream",
     "text": [
      " Batch 51 — accuracy: 0.8645, F1: 0.9205\n",
      "[[ 79793 117852]\n",
      " [ 17681 784674]] \n",
      "\n"
     ]
    },
    {
     "data": {
      "application/vnd.jupyter.widget-view+json": {
       "model_id": "35340f6b514d493e970d762c178d938d",
       "version_major": 2,
       "version_minor": 0
      },
      "text/plain": [
       "FloatProgress(value=0.0, layout=Layout(width='auto'), style=ProgressStyle(bar_color='black'))"
      ]
     },
     "metadata": {},
     "output_type": "display_data"
    },
    {
     "name": "stdout",
     "output_type": "stream",
     "text": [
      " Batch 52 — accuracy: 0.8626, F1: 0.9185\n",
      "[[ 88221 119295]\n",
      " [ 18066 774418]] \n",
      "\n"
     ]
    },
    {
     "data": {
      "application/vnd.jupyter.widget-view+json": {
       "model_id": "2f24e439b9f14e288754775628399d01",
       "version_major": 2,
       "version_minor": 0
      },
      "text/plain": [
       "FloatProgress(value=0.0, layout=Layout(width='auto'), style=ProgressStyle(bar_color='black'))"
      ]
     },
     "metadata": {},
     "output_type": "display_data"
    },
    {
     "name": "stdout",
     "output_type": "stream",
     "text": [
      " Batch 53 — accuracy: 0.8614, F1: 0.9166\n",
      "[[ 99881 119799]\n",
      " [ 18818 761502]] \n",
      "\n"
     ]
    },
    {
     "data": {
      "application/vnd.jupyter.widget-view+json": {
       "model_id": "36b2f59acf6a4d2189d705db87480cd2",
       "version_major": 2,
       "version_minor": 0
      },
      "text/plain": [
       "FloatProgress(value=0.0, layout=Layout(width='auto'), style=ProgressStyle(bar_color='black'))"
      ]
     },
     "metadata": {},
     "output_type": "display_data"
    },
    {
     "name": "stdout",
     "output_type": "stream",
     "text": [
      " Batch 54 — accuracy: 0.8664, F1: 0.9181\n",
      "[[117330 112126]\n",
      " [ 21442 749102]] \n",
      "\n"
     ]
    },
    {
     "data": {
      "application/vnd.jupyter.widget-view+json": {
       "model_id": "345e821100e548fd98c7760cc2d8a73f",
       "version_major": 2,
       "version_minor": 0
      },
      "text/plain": [
       "FloatProgress(value=0.0, layout=Layout(width='auto'), style=ProgressStyle(bar_color='black'))"
      ]
     },
     "metadata": {},
     "output_type": "display_data"
    },
    {
     "name": "stdout",
     "output_type": "stream",
     "text": [
      " Batch 55 — accuracy: 0.8730, F1: 0.9221\n",
      "[[121063 104988]\n",
      " [ 22009 751940]] \n",
      "\n"
     ]
    },
    {
     "data": {
      "application/vnd.jupyter.widget-view+json": {
       "model_id": "5dc0a6e7d77f4f639bfeab58754fee50",
       "version_major": 2,
       "version_minor": 0
      },
      "text/plain": [
       "FloatProgress(value=0.0, layout=Layout(width='auto'), style=ProgressStyle(bar_color='black'))"
      ]
     },
     "metadata": {},
     "output_type": "display_data"
    },
    {
     "name": "stdout",
     "output_type": "stream",
     "text": [
      " Batch 56 — accuracy: 0.8743, F1: 0.9230\n",
      "[[120672 103433]\n",
      " [ 22260 753635]] \n",
      "\n"
     ]
    },
    {
     "data": {
      "application/vnd.jupyter.widget-view+json": {
       "model_id": "3b98fb52b89844bba364fba6be64bf59",
       "version_major": 2,
       "version_minor": 0
      },
      "text/plain": [
       "FloatProgress(value=0.0, layout=Layout(width='auto'), style=ProgressStyle(bar_color='black'))"
      ]
     },
     "metadata": {},
     "output_type": "display_data"
    },
    {
     "name": "stdout",
     "output_type": "stream",
     "text": [
      " Batch 57 — accuracy: 0.8742, F1: 0.9229\n",
      "[[121827 103538]\n",
      " [ 22240 752395]] \n",
      "\n"
     ]
    },
    {
     "data": {
      "application/vnd.jupyter.widget-view+json": {
       "model_id": "579f0e37009e439a865005ab96042d3a",
       "version_major": 2,
       "version_minor": 0
      },
      "text/plain": [
       "FloatProgress(value=0.0, layout=Layout(width='auto'), style=ProgressStyle(bar_color='black'))"
      ]
     },
     "metadata": {},
     "output_type": "display_data"
    },
    {
     "name": "stdout",
     "output_type": "stream",
     "text": [
      " Batch 58 — accuracy: 0.8748, F1: 0.9232\n",
      "[[122180 103134]\n",
      " [ 22074 752612]] \n",
      "\n"
     ]
    },
    {
     "data": {
      "application/vnd.jupyter.widget-view+json": {
       "model_id": "857bfdf1779a4afab81169dd50ce94b4",
       "version_major": 2,
       "version_minor": 0
      },
      "text/plain": [
       "FloatProgress(value=0.0, layout=Layout(width='auto'), style=ProgressStyle(bar_color='black'))"
      ]
     },
     "metadata": {},
     "output_type": "display_data"
    },
    {
     "name": "stdout",
     "output_type": "stream",
     "text": [
      " Batch 59 — accuracy: 0.8753, F1: 0.9235\n",
      "[[122531 102489]\n",
      " [ 22204 752776]] \n",
      "\n"
     ]
    },
    {
     "data": {
      "application/vnd.jupyter.widget-view+json": {
       "model_id": "714f14c8c111405fae879cd56bbad5a8",
       "version_major": 2,
       "version_minor": 0
      },
      "text/plain": [
       "FloatProgress(value=0.0, layout=Layout(width='auto'), style=ProgressStyle(bar_color='black'))"
      ]
     },
     "metadata": {},
     "output_type": "display_data"
    },
    {
     "name": "stdout",
     "output_type": "stream",
     "text": [
      " Batch 60 — accuracy: 0.8756, F1: 0.9237\n",
      "[[122537 101945]\n",
      " [ 22448 753070]] \n",
      "\n"
     ]
    },
    {
     "data": {
      "application/vnd.jupyter.widget-view+json": {
       "model_id": "9c12b54f7ac941818a8d100cb9827662",
       "version_major": 2,
       "version_minor": 0
      },
      "text/plain": [
       "FloatProgress(value=0.0, layout=Layout(width='auto'), style=ProgressStyle(bar_color='black'))"
      ]
     },
     "metadata": {},
     "output_type": "display_data"
    },
    {
     "name": "stdout",
     "output_type": "stream",
     "text": [
      " Batch 61 — accuracy: 0.8759, F1: 0.9238\n",
      "[[123285 101811]\n",
      " [ 22307 752597]] \n",
      "\n"
     ]
    },
    {
     "data": {
      "application/vnd.jupyter.widget-view+json": {
       "model_id": "d7367f06e1a44f94954dd117026c20c3",
       "version_major": 2,
       "version_minor": 0
      },
      "text/plain": [
       "FloatProgress(value=0.0, layout=Layout(width='auto'), style=ProgressStyle(bar_color='black'))"
      ]
     },
     "metadata": {},
     "output_type": "display_data"
    },
    {
     "name": "stdout",
     "output_type": "stream",
     "text": [
      " Batch 62 — accuracy: 0.8760, F1: 0.9239\n",
      "[[123042 101634]\n",
      " [ 22361 752963]] \n",
      "\n"
     ]
    },
    {
     "data": {
      "application/vnd.jupyter.widget-view+json": {
       "model_id": "daa8844fbed9418ea3cba9f5da2cb942",
       "version_major": 2,
       "version_minor": 0
      },
      "text/plain": [
       "FloatProgress(value=0.0, layout=Layout(width='auto'), style=ProgressStyle(bar_color='black'))"
      ]
     },
     "metadata": {},
     "output_type": "display_data"
    },
    {
     "name": "stdout",
     "output_type": "stream",
     "text": [
      " Batch 63 — accuracy: 0.8766, F1: 0.9242\n",
      "[[124068 101078]\n",
      " [ 22284 752570]] \n",
      "\n"
     ]
    },
    {
     "data": {
      "application/vnd.jupyter.widget-view+json": {
       "model_id": "210757ba35d7464eb4973c78e788bf62",
       "version_major": 2,
       "version_minor": 0
      },
      "text/plain": [
       "FloatProgress(value=0.0, layout=Layout(width='auto'), style=ProgressStyle(bar_color='black'))"
      ]
     },
     "metadata": {},
     "output_type": "display_data"
    },
    {
     "name": "stdout",
     "output_type": "stream",
     "text": [
      " Batch 64 — accuracy: 0.8764, F1: 0.9241\n",
      "[[123828 101364]\n",
      " [ 22228 752580]] \n",
      "\n"
     ]
    },
    {
     "data": {
      "application/vnd.jupyter.widget-view+json": {
       "model_id": "3fedc0927e17479f847d37e0779c0871",
       "version_major": 2,
       "version_minor": 0
      },
      "text/plain": [
       "FloatProgress(value=0.0, layout=Layout(width='auto'), style=ProgressStyle(bar_color='black'))"
      ]
     },
     "metadata": {},
     "output_type": "display_data"
    },
    {
     "name": "stdout",
     "output_type": "stream",
     "text": [
      " Batch 65 — accuracy: 0.8766, F1: 0.9242\n",
      "[[124236 100779]\n",
      " [ 22574 752411]] \n",
      "\n"
     ]
    },
    {
     "data": {
      "application/vnd.jupyter.widget-view+json": {
       "model_id": "5cdf2f158d4946828ccdbb7e9ba56df7",
       "version_major": 2,
       "version_minor": 0
      },
      "text/plain": [
       "FloatProgress(value=0.0, layout=Layout(width='auto'), style=ProgressStyle(bar_color='black'))"
      ]
     },
     "metadata": {},
     "output_type": "display_data"
    },
    {
     "name": "stdout",
     "output_type": "stream",
     "text": [
      " Batch 66 — accuracy: 0.8773, F1: 0.9246\n",
      "[[124842 100302]\n",
      " [ 22377 752479]] \n",
      "\n"
     ]
    },
    {
     "data": {
      "application/vnd.jupyter.widget-view+json": {
       "model_id": "a85640de6e3f4017891d75c55aa7956a",
       "version_major": 2,
       "version_minor": 0
      },
      "text/plain": [
       "FloatProgress(value=0.0, layout=Layout(width='auto'), style=ProgressStyle(bar_color='black'))"
      ]
     },
     "metadata": {},
     "output_type": "display_data"
    },
    {
     "name": "stdout",
     "output_type": "stream",
     "text": [
      " Batch 67 — accuracy: 0.8753, F1: 0.9237\n",
      "[[120021 102518]\n",
      " [ 22209 755252]] \n",
      "\n"
     ]
    },
    {
     "data": {
      "application/vnd.jupyter.widget-view+json": {
       "model_id": "63cdc3fab7d945df8c50acf94c46d1ad",
       "version_major": 2,
       "version_minor": 0
      },
      "text/plain": [
       "FloatProgress(value=0.0, layout=Layout(width='auto'), style=ProgressStyle(bar_color='black'))"
      ]
     },
     "metadata": {},
     "output_type": "display_data"
    },
    {
     "name": "stdout",
     "output_type": "stream",
     "text": [
      " Batch 68 — accuracy: 0.8686, F1: 0.9219\n",
      "[[ 92988 113508]\n",
      " [ 17882 775622]] \n",
      "\n"
     ]
    },
    {
     "data": {
      "application/vnd.jupyter.widget-view+json": {
       "model_id": "dcd89a4b5cc7486e9a0069102589fb27",
       "version_major": 2,
       "version_minor": 0
      },
      "text/plain": [
       "FloatProgress(value=0.0, layout=Layout(width='auto'), style=ProgressStyle(bar_color='black'))"
      ]
     },
     "metadata": {},
     "output_type": "display_data"
    },
    {
     "name": "stdout",
     "output_type": "stream",
     "text": [
      " Batch 69 — accuracy: 0.8809, F1: 0.9357\n",
      "[[ 14319 115172]\n",
      " [  3936 866573]] \n",
      "\n"
     ]
    },
    {
     "data": {
      "application/vnd.jupyter.widget-view+json": {
       "model_id": "23c7c0ef4a0e4a77824c707dd75db247",
       "version_major": 2,
       "version_minor": 0
      },
      "text/plain": [
       "FloatProgress(value=0.0, layout=Layout(width='auto'), style=ProgressStyle(bar_color='black'))"
      ]
     },
     "metadata": {},
     "output_type": "display_data"
    },
    {
     "name": "stdout",
     "output_type": "stream",
     "text": [
      " Batch 70 — accuracy: 0.8637, F1: 0.9254\n",
      "[[ 18473 131565]\n",
      " [  4775 845187]] \n",
      "\n"
     ]
    },
    {
     "data": {
      "application/vnd.jupyter.widget-view+json": {
       "model_id": "e5d043c1729b4dfbb1a84af6d187bc62",
       "version_major": 2,
       "version_minor": 0
      },
      "text/plain": [
       "FloatProgress(value=0.0, layout=Layout(width='auto'), style=ProgressStyle(bar_color='black'))"
      ]
     },
     "metadata": {},
     "output_type": "display_data"
    },
    {
     "name": "stdout",
     "output_type": "stream",
     "text": [
      " Batch 71 — accuracy: 0.8760, F1: 0.9327\n",
      "[[ 16208 120103]\n",
      " [  3885 859804]] \n",
      "\n"
     ]
    },
    {
     "data": {
      "application/vnd.jupyter.widget-view+json": {
       "model_id": "8dcb3e1842af48e2b061d083ebf06a45",
       "version_major": 2,
       "version_minor": 0
      },
      "text/plain": [
       "FloatProgress(value=0.0, layout=Layout(width='auto'), style=ProgressStyle(bar_color='black'))"
      ]
     },
     "metadata": {},
     "output_type": "display_data"
    },
    {
     "name": "stdout",
     "output_type": "stream",
     "text": [
      " Batch 72 — accuracy: 0.8765, F1: 0.9330\n",
      "[[ 16812 119502]\n",
      " [  4006 859680]] \n",
      "\n"
     ]
    },
    {
     "data": {
      "application/vnd.jupyter.widget-view+json": {
       "model_id": "f7e98caf01744451939a29aad3ff2297",
       "version_major": 2,
       "version_minor": 0
      },
      "text/plain": [
       "FloatProgress(value=0.0, layout=Layout(width='auto'), style=ProgressStyle(bar_color='black'))"
      ]
     },
     "metadata": {},
     "output_type": "display_data"
    },
    {
     "name": "stdout",
     "output_type": "stream",
     "text": [
      " Batch 73 — accuracy: 0.8758, F1: 0.9324\n",
      "[[ 19340 119713]\n",
      " [  4532 856415]] \n",
      "\n"
     ]
    },
    {
     "data": {
      "application/vnd.jupyter.widget-view+json": {
       "model_id": "2b061748216146ac859538d7860af7ae",
       "version_major": 2,
       "version_minor": 0
      },
      "text/plain": [
       "FloatProgress(value=0.0, layout=Layout(width='auto'), style=ProgressStyle(bar_color='black'))"
      ]
     },
     "metadata": {},
     "output_type": "display_data"
    },
    {
     "name": "stdout",
     "output_type": "stream",
     "text": [
      " Batch 74 — accuracy: 0.8427, F1: 0.9094\n",
      "[[ 52903 144631]\n",
      " [ 12659 789807]] \n",
      "\n"
     ]
    },
    {
     "data": {
      "application/vnd.jupyter.widget-view+json": {
       "model_id": "e0837d631ce04689a3e2073b07aa75ca",
       "version_major": 2,
       "version_minor": 0
      },
      "text/plain": [
       "FloatProgress(value=0.0, layout=Layout(width='auto'), style=ProgressStyle(bar_color='black'))"
      ]
     },
     "metadata": {},
     "output_type": "display_data"
    },
    {
     "name": "stdout",
     "output_type": "stream",
     "text": [
      " Batch 75 — accuracy: 0.8468, F1: 0.9113\n",
      "[[ 59956 140140]\n",
      " [ 13099 786805]] \n",
      "\n"
     ]
    },
    {
     "data": {
      "application/vnd.jupyter.widget-view+json": {
       "model_id": "2c46ad3be6894ac9930d2a86cea79424",
       "version_major": 2,
       "version_minor": 0
      },
      "text/plain": [
       "FloatProgress(value=0.0, layout=Layout(width='auto'), style=ProgressStyle(bar_color='black'))"
      ]
     },
     "metadata": {},
     "output_type": "display_data"
    },
    {
     "name": "stdout",
     "output_type": "stream",
     "text": [
      " Batch 76 — accuracy: 0.8527, F1: 0.9148\n",
      "[[ 61318 134699]\n",
      " [ 12630 791353]] \n",
      "\n"
     ]
    },
    {
     "data": {
      "application/vnd.jupyter.widget-view+json": {
       "model_id": "99dc0098004b4784a6ec6dec5def6db7",
       "version_major": 2,
       "version_minor": 0
      },
      "text/plain": [
       "FloatProgress(value=0.0, layout=Layout(width='auto'), style=ProgressStyle(bar_color='black'))"
      ]
     },
     "metadata": {},
     "output_type": "display_data"
    },
    {
     "name": "stdout",
     "output_type": "stream",
     "text": [
      " Batch 77 — accuracy: 0.8633, F1: 0.9202\n",
      "[[ 75240 121894]\n",
      " [ 14850 788016]] \n",
      "\n"
     ]
    },
    {
     "data": {
      "application/vnd.jupyter.widget-view+json": {
       "model_id": "9f41768f914d4ed5bcadc8d590616942",
       "version_major": 2,
       "version_minor": 0
      },
      "text/plain": [
       "FloatProgress(value=0.0, layout=Layout(width='auto'), style=ProgressStyle(bar_color='black'))"
      ]
     },
     "metadata": {},
     "output_type": "display_data"
    },
    {
     "name": "stdout",
     "output_type": "stream",
     "text": [
      " Batch 78 — accuracy: 0.8764, F1: 0.9277\n",
      "[[ 83151 105791]\n",
      " [ 17849 793209]] \n",
      "\n"
     ]
    },
    {
     "data": {
      "application/vnd.jupyter.widget-view+json": {
       "model_id": "5071a4c4f6c34868b5a9b080fb265633",
       "version_major": 2,
       "version_minor": 0
      },
      "text/plain": [
       "FloatProgress(value=0.0, layout=Layout(width='auto'), style=ProgressStyle(bar_color='black'))"
      ]
     },
     "metadata": {},
     "output_type": "display_data"
    },
    {
     "name": "stdout",
     "output_type": "stream",
     "text": [
      " Batch 79 — accuracy: 0.8703, F1: 0.9206\n",
      "[[118251 108904]\n",
      " [ 20752 752093]] \n",
      "\n"
     ]
    },
    {
     "data": {
      "application/vnd.jupyter.widget-view+json": {
       "model_id": "069cd7a06aa34b12897cf2d6947ba195",
       "version_major": 2,
       "version_minor": 0
      },
      "text/plain": [
       "FloatProgress(value=0.0, layout=Layout(width='auto'), style=ProgressStyle(bar_color='black'))"
      ]
     },
     "metadata": {},
     "output_type": "display_data"
    },
    {
     "name": "stdout",
     "output_type": "stream",
     "text": [
      " Batch 80 — accuracy: 0.8650, F1: 0.9175\n",
      "[[114214 112617]\n",
      " [ 22344 750825]] \n",
      "\n"
     ]
    },
    {
     "data": {
      "application/vnd.jupyter.widget-view+json": {
       "model_id": "e7dc5f54840c47c8a2c9b78be3a46066",
       "version_major": 2,
       "version_minor": 0
      },
      "text/plain": [
       "FloatProgress(value=0.0, layout=Layout(width='auto'), style=ProgressStyle(bar_color='black'))"
      ]
     },
     "metadata": {},
     "output_type": "display_data"
    },
    {
     "name": "stdout",
     "output_type": "stream",
     "text": [
      " Batch 81 — accuracy: 0.8572, F1: 0.9127\n",
      "[[111081 120080]\n",
      " [ 22699 746140]] \n",
      "\n"
     ]
    },
    {
     "data": {
      "application/vnd.jupyter.widget-view+json": {
       "model_id": "08f224f4e6854f28a9832b8cf594959a",
       "version_major": 2,
       "version_minor": 0
      },
      "text/plain": [
       "FloatProgress(value=0.0, layout=Layout(width='auto'), style=ProgressStyle(bar_color='black'))"
      ]
     },
     "metadata": {},
     "output_type": "display_data"
    },
    {
     "name": "stdout",
     "output_type": "stream",
     "text": [
      " Batch 82 — accuracy: 0.8527, F1: 0.9059\n",
      "[[144186 121483]\n",
      " [ 25779 708552]] \n",
      "\n"
     ]
    },
    {
     "data": {
      "application/vnd.jupyter.widget-view+json": {
       "model_id": "a0615b02256945029e80f2555c528bcc",
       "version_major": 2,
       "version_minor": 0
      },
      "text/plain": [
       "FloatProgress(value=0.0, layout=Layout(width='auto'), style=ProgressStyle(bar_color='black'))"
      ]
     },
     "metadata": {},
     "output_type": "display_data"
    },
    {
     "name": "stdout",
     "output_type": "stream",
     "text": [
      " Batch 83 — accuracy: 0.8482, F1: 0.8997\n",
      "[[167593 123126]\n",
      " [ 28665 680616]] \n",
      "\n"
     ]
    },
    {
     "data": {
      "application/vnd.jupyter.widget-view+json": {
       "model_id": "6d5040c79eae421899cddb99cdf98b16",
       "version_major": 2,
       "version_minor": 0
      },
      "text/plain": [
       "FloatProgress(value=0.0, layout=Layout(width='auto'), style=ProgressStyle(bar_color='black'))"
      ]
     },
     "metadata": {},
     "output_type": "display_data"
    },
    {
     "name": "stdout",
     "output_type": "stream",
     "text": [
      " Batch 84 — accuracy: 0.8433, F1: 0.9023\n",
      "[[119968 131836]\n",
      " [ 24864 723332]] \n",
      "\n"
     ]
    },
    {
     "data": {
      "application/vnd.jupyter.widget-view+json": {
       "model_id": "a2fe8756192b4f93b37f8c30c19f3588",
       "version_major": 2,
       "version_minor": 0
      },
      "text/plain": [
       "FloatProgress(value=0.0, layout=Layout(width='auto'), style=ProgressStyle(bar_color='black'))"
      ]
     },
     "metadata": {},
     "output_type": "display_data"
    },
    {
     "name": "stdout",
     "output_type": "stream",
     "text": [
      " Batch 85 — accuracy: 0.8445, F1: 0.9031\n",
      "[[119750 131231]\n",
      " [ 24270 724749]] \n",
      "\n"
     ]
    },
    {
     "data": {
      "application/vnd.jupyter.widget-view+json": {
       "model_id": "8b0fd1f5f29649f6af5ae2056aaf754e",
       "version_major": 2,
       "version_minor": 0
      },
      "text/plain": [
       "FloatProgress(value=0.0, layout=Layout(width='auto'), style=ProgressStyle(bar_color='black'))"
      ]
     },
     "metadata": {},
     "output_type": "display_data"
    },
    {
     "name": "stdout",
     "output_type": "stream",
     "text": [
      " Batch 86 — accuracy: 0.8452, F1: 0.9032\n",
      "[[122789 130661]\n",
      " [ 24182 722368]] \n",
      "\n"
     ]
    },
    {
     "data": {
      "application/vnd.jupyter.widget-view+json": {
       "model_id": "58131967fa72419fa83efef1802166ee",
       "version_major": 2,
       "version_minor": 0
      },
      "text/plain": [
       "FloatProgress(value=0.0, layout=Layout(width='auto'), style=ProgressStyle(bar_color='black'))"
      ]
     },
     "metadata": {},
     "output_type": "display_data"
    },
    {
     "name": "stdout",
     "output_type": "stream",
     "text": [
      " Batch 87 — accuracy: 0.8178, F1: 0.8840\n",
      "[[124012 154696]\n",
      " [ 27477 693815]] \n",
      "\n"
     ]
    },
    {
     "data": {
      "application/vnd.jupyter.widget-view+json": {
       "model_id": "d7237032ebcd47ea9664e4474f1e63b9",
       "version_major": 2,
       "version_minor": 0
      },
      "text/plain": [
       "FloatProgress(value=0.0, layout=Layout(width='auto'), style=ProgressStyle(bar_color='black'))"
      ]
     },
     "metadata": {},
     "output_type": "display_data"
    },
    {
     "name": "stdout",
     "output_type": "stream",
     "text": [
      " Batch 88 — accuracy: 0.8780, F1: 0.9288\n",
      "[[ 81560 100595]\n",
      " [ 21452 796393]] \n",
      "\n"
     ]
    },
    {
     "data": {
      "application/vnd.jupyter.widget-view+json": {
       "model_id": "d14c4245335247099866c025a107954b",
       "version_major": 2,
       "version_minor": 0
      },
      "text/plain": [
       "FloatProgress(value=0.0, layout=Layout(width='auto'), style=ProgressStyle(bar_color='black'))"
      ]
     },
     "metadata": {},
     "output_type": "display_data"
    },
    {
     "name": "stdout",
     "output_type": "stream",
     "text": [
      " Batch 89 — accuracy: 0.8714, F1: 0.9241\n",
      "[[ 88846 110182]\n",
      " [ 18418 782554]] \n",
      "\n"
     ]
    },
    {
     "data": {
      "application/vnd.jupyter.widget-view+json": {
       "model_id": "c73183a25ba046048d46c0303d0a7bb5",
       "version_major": 2,
       "version_minor": 0
      },
      "text/plain": [
       "FloatProgress(value=0.0, layout=Layout(width='auto'), style=ProgressStyle(bar_color='black'))"
      ]
     },
     "metadata": {},
     "output_type": "display_data"
    },
    {
     "name": "stdout",
     "output_type": "stream",
     "text": [
      " Batch 90 — accuracy: 0.8697, F1: 0.9218\n",
      "[[101066 112095]\n",
      " [ 18255 768584]] \n",
      "\n"
     ]
    },
    {
     "data": {
      "application/vnd.jupyter.widget-view+json": {
       "model_id": "b5745bc9d0de45bfb56b2b112273c97f",
       "version_major": 2,
       "version_minor": 0
      },
      "text/plain": [
       "FloatProgress(value=0.0, layout=Layout(width='auto'), style=ProgressStyle(bar_color='black'))"
      ]
     },
     "metadata": {},
     "output_type": "display_data"
    },
    {
     "name": "stdout",
     "output_type": "stream",
     "text": [
      " Batch 91 — accuracy: 0.8652, F1: 0.9162\n",
      "[[128869 113797]\n",
      " [ 20989 736345]] \n",
      "\n"
     ]
    },
    {
     "data": {
      "application/vnd.jupyter.widget-view+json": {
       "model_id": "81e4e37c6cfb4d0a81aeab0a9bf4ae6a",
       "version_major": 2,
       "version_minor": 0
      },
      "text/plain": [
       "FloatProgress(value=0.0, layout=Layout(width='auto'), style=ProgressStyle(bar_color='black'))"
      ]
     },
     "metadata": {},
     "output_type": "display_data"
    },
    {
     "name": "stdout",
     "output_type": "stream",
     "text": [
      " Batch 92 — accuracy: 0.8699, F1: 0.9203\n",
      "[[118350 106245]\n",
      " [ 23854 751551]] \n",
      "\n"
     ]
    },
    {
     "data": {
      "application/vnd.jupyter.widget-view+json": {
       "model_id": "0c331295d3c44ace927fdf3a986cdcdc",
       "version_major": 2,
       "version_minor": 0
      },
      "text/plain": [
       "FloatProgress(value=0.0, layout=Layout(width='auto'), style=ProgressStyle(bar_color='black'))"
      ]
     },
     "metadata": {},
     "output_type": "display_data"
    },
    {
     "name": "stdout",
     "output_type": "stream",
     "text": [
      " Batch 93 — accuracy: 0.8688, F1: 0.9198\n",
      "[[115763 108707]\n",
      " [ 22528 753002]] \n",
      "\n"
     ]
    },
    {
     "data": {
      "application/vnd.jupyter.widget-view+json": {
       "model_id": "0eb563f248954738a624890b3ff940f5",
       "version_major": 2,
       "version_minor": 0
      },
      "text/plain": [
       "FloatProgress(value=0.0, layout=Layout(width='auto'), style=ProgressStyle(bar_color='black'))"
      ]
     },
     "metadata": {},
     "output_type": "display_data"
    },
    {
     "name": "stdout",
     "output_type": "stream",
     "text": [
      " Batch 94 — accuracy: 0.8699, F1: 0.9206\n",
      "[[115143 109015]\n",
      " [ 21122 754720]] \n",
      "\n"
     ]
    },
    {
     "data": {
      "application/vnd.jupyter.widget-view+json": {
       "model_id": "98317978ecfc42fab00831ee0e9fa4e1",
       "version_major": 2,
       "version_minor": 0
      },
      "text/plain": [
       "FloatProgress(value=0.0, layout=Layout(width='auto'), style=ProgressStyle(bar_color='black'))"
      ]
     },
     "metadata": {},
     "output_type": "display_data"
    },
    {
     "name": "stdout",
     "output_type": "stream",
     "text": [
      " Batch 95 — accuracy: 0.8691, F1: 0.9201\n",
      "[[115086 109871]\n",
      " [ 21013 754030]] \n",
      "\n"
     ]
    },
    {
     "data": {
      "application/vnd.jupyter.widget-view+json": {
       "model_id": "0c7743a8dd61461faf9099f0fde723ab",
       "version_major": 2,
       "version_minor": 0
      },
      "text/plain": [
       "FloatProgress(value=0.0, layout=Layout(width='auto'), style=ProgressStyle(bar_color='black'))"
      ]
     },
     "metadata": {},
     "output_type": "display_data"
    },
    {
     "name": "stdout",
     "output_type": "stream",
     "text": [
      " Batch 96 — accuracy: 0.8697, F1: 0.9205\n",
      "[[115450 109406]\n",
      " [ 20900 754244]] \n",
      "\n"
     ]
    },
    {
     "data": {
      "application/vnd.jupyter.widget-view+json": {
       "model_id": "6a7cc0a017cf464d927328474055a04d",
       "version_major": 2,
       "version_minor": 0
      },
      "text/plain": [
       "FloatProgress(value=0.0, layout=Layout(width='auto'), style=ProgressStyle(bar_color='black'))"
      ]
     },
     "metadata": {},
     "output_type": "display_data"
    },
    {
     "name": "stdout",
     "output_type": "stream",
     "text": [
      " Batch 97 — accuracy: 0.8830, F1: 0.9315\n",
      "[[ 87646 101029]\n",
      " [ 15941 795384]] \n",
      "\n"
     ]
    },
    {
     "data": {
      "application/vnd.jupyter.widget-view+json": {
       "model_id": "0861b82b63a54f6ca4f9f46b77b3527d",
       "version_major": 2,
       "version_minor": 0
      },
      "text/plain": [
       "FloatProgress(value=0.0, layout=Layout(width='auto'), style=ProgressStyle(bar_color='black'))"
      ]
     },
     "metadata": {},
     "output_type": "display_data"
    },
    {
     "name": "stdout",
     "output_type": "stream",
     "text": [
      " Batch 98 — accuracy: 0.8802, F1: 0.9286\n",
      "[[100322 103244]\n",
      " [ 16599 779835]] \n",
      "\n"
     ]
    },
    {
     "data": {
      "application/vnd.jupyter.widget-view+json": {
       "model_id": "33f0d03c27854d9488c29ee28bac3bbb",
       "version_major": 2,
       "version_minor": 0
      },
      "text/plain": [
       "FloatProgress(value=0.0, layout=Layout(width='auto'), style=ProgressStyle(bar_color='black'))"
      ]
     },
     "metadata": {},
     "output_type": "display_data"
    },
    {
     "name": "stdout",
     "output_type": "stream",
     "text": [
      " Batch 99 — accuracy: 0.8763, F1: 0.9234\n",
      "[[130409 104414]\n",
      " [ 19294 745883]] \n",
      "\n"
     ]
    },
    {
     "data": {
      "application/vnd.jupyter.widget-view+json": {
       "model_id": "3fa575aa18894c019de4519c7ee862cf",
       "version_major": 2,
       "version_minor": 0
      },
      "text/plain": [
       "FloatProgress(value=0.0, layout=Layout(width='auto'), style=ProgressStyle(bar_color='black'))"
      ]
     },
     "metadata": {},
     "output_type": "display_data"
    },
    {
     "name": "stdout",
     "output_type": "stream",
     "text": [
      " Batch 100 — accuracy: 0.8595, F1: 0.9106\n",
      "[[143305 115598]\n",
      " [ 24944 716153]] \n",
      "\n"
     ]
    },
    {
     "data": {
      "application/vnd.jupyter.widget-view+json": {
       "model_id": "21a15748da8343df89656bc7aebd30c4",
       "version_major": 2,
       "version_minor": 0
      },
      "text/plain": [
       "FloatProgress(value=0.0, layout=Layout(width='auto'), style=ProgressStyle(bar_color='black'))"
      ]
     },
     "metadata": {},
     "output_type": "display_data"
    },
    {
     "name": "stdout",
     "output_type": "stream",
     "text": [
      " Batch 101 — accuracy: 0.8457, F1: 0.9031\n",
      "[[ 76729  77338]\n",
      " [ 16028 434856]] \n",
      "\n"
     ]
    },
    {
     "data": {
      "application/vnd.jupyter.widget-view+json": {
       "model_id": "ab26f7e6ebd74802b565b10533f0ab9c",
       "version_major": 2,
       "version_minor": 0
      },
      "text/plain": [
       "FloatProgress(value=0.0, layout=Layout(width='auto'), style=ProgressStyle(bar_color='black'))"
      ]
     },
     "metadata": {},
     "output_type": "display_data"
    },
    {
     "name": "stdout",
     "output_type": "stream",
     "text": [
      "Overall Metrics Across All Batches:\n",
      "Total Confusion Matrix:\n",
      "[[10628617 11438593]\n",
      " [ 2071764 76465977]]\n",
      "Overall Accuracy: 0.8657\n",
      "Overall F1 Score: 0.9188\n"
     ]
    }
   ],
   "source": [
    "import duckdb\n",
    "import pandas as pd\n",
    "import numpy as np\n",
    "from sklearn.feature_extraction.text import TfidfVectorizer\n",
    "from sklearn.linear_model import SGDClassifier\n",
    "from sklearn.model_selection import train_test_split\n",
    "from sklearn.metrics import accuracy_score, f1_score, confusion_matrix, classification_report\n",
    "\n",
    "input_path = \"F:/sentiments/sentiments/sentiment_*.parquet\"\n",
    "\n",
    "batch_size = 5000000 \n",
    "\n",
    "vectorizer = TfidfVectorizer(\n",
    "    lowercase=True,\n",
    "    token_pattern=r'\\b\\w+\\b',\n",
    "    min_df=5,\n",
    "    max_df=0.8\n",
    ")\n",
    "model = SGDClassifier(loss='log_loss', random_state=42)\n",
    "classes = [0, 1]\n",
    "\n",
    "offset = 0\n",
    "batch_num = 1\n",
    "con = duckdb.connect()\n",
    "\n",
    "all_preds = []\n",
    "all_truths = []\n",
    "\n",
    "while True:\n",
    "    query = f\"\"\"\n",
    "        SELECT text, rating\n",
    "        FROM read_parquet('{input_path}')\n",
    "        WHERE rating BETWEEN 1 AND 5\n",
    "          AND text IS NOT NULL\n",
    "          AND LENGTH(TRIM(text)) > 0\n",
    "        LIMIT {batch_size} OFFSET {offset}\n",
    "    \"\"\"\n",
    "    df = con.execute(query).fetch_df()\n",
    "    if df.empty:\n",
    "        break\n",
    "\n",
    "    df[\"label\"] = (df[\"rating\"] > 3).astype(int)\n",
    "\n",
    "    X_train, X_test, y_train, y_test = train_test_split(\n",
    "        df[\"text\"], df[\"label\"], test_size=0.2, random_state=42\n",
    "    )\n",
    "\n",
    "    if batch_num == 1:\n",
    "        X_train_vec = vectorizer.fit_transform(X_train)\n",
    "        model.partial_fit(X_train_vec, y_train, classes=classes)\n",
    "    else:\n",
    "        X_train_vec = vectorizer.transform(X_train)\n",
    "        model.partial_fit(X_train_vec, y_train)\n",
    "\n",
    "    X_test_vec = vectorizer.transform(X_test)\n",
    "    y_pred = model.predict(X_test_vec)\n",
    "\n",
    "    all_preds.extend(y_pred)\n",
    "    all_truths.extend(y_test)\n",
    "\n",
    "    acc = accuracy_score(y_test, y_pred)\n",
    "    f1 = f1_score(y_test, y_pred)\n",
    "    cm = confusion_matrix(y_test, y_pred)\n",
    "\n",
    "    print(f\" Batch {batch_num} — accuracy: {acc:.4f}, F1: {f1:.4f}\")\n",
    "    print(cm, \"\\n\")\n",
    "\n",
    "    offset += batch_size\n",
    "    batch_num += 1\n",
    "\n",
    "# Calculate overall metrics\n",
    "if all_preds and all_truths:\n",
    "    overall_acc = accuracy_score(all_truths, all_preds)\n",
    "    overall_f1 = f1_score(all_truths, all_preds)\n",
    "    overall_cm = confusion_matrix(all_truths, all_preds)\n",
    "\n",
    "    print(\"Overall Metrics Across All Batches:\")\n",
    "    print(f\"Total Confusion Matrix:\\n{overall_cm}\")\n",
    "    print(f\"Overall Accuracy: {overall_acc:.4f}\")\n",
    "    print(f\"Overall F1 Score: {overall_f1:.4f}\")\n",
    "\n",
    "con.close()"
   ]
  }
 ],
 "metadata": {
  "kernelspec": {
   "display_name": ".conda",
   "language": "python",
   "name": "python3"
  },
  "language_info": {
   "codemirror_mode": {
    "name": "ipython",
    "version": 3
   },
   "file_extension": ".py",
   "mimetype": "text/x-python",
   "name": "python",
   "nbconvert_exporter": "python",
   "pygments_lexer": "ipython3",
   "version": "3.11.11"
  }
 },
 "nbformat": 4,
 "nbformat_minor": 5
}
